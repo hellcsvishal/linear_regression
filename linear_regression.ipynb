{
 "cells": [
  {
   "cell_type": "code",
   "execution_count": 75,
   "id": "b33ba557-4f89-4f29-af1f-a9b816a8f0a0",
   "metadata": {},
   "outputs": [
    {
     "name": "stdout",
     "output_type": "stream",
     "text": [
      "Requirement already satisfied: tensorflow in c:\\users\\visha\\anaconda3\\lib\\site-packages (2.19.0)\n",
      "Requirement already satisfied: absl-py>=1.0.0 in c:\\users\\visha\\anaconda3\\lib\\site-packages (from tensorflow) (2.2.1)\n",
      "Requirement already satisfied: astunparse>=1.6.0 in c:\\users\\visha\\anaconda3\\lib\\site-packages (from tensorflow) (1.6.3)\n",
      "Requirement already satisfied: flatbuffers>=24.3.25 in c:\\users\\visha\\anaconda3\\lib\\site-packages (from tensorflow) (25.2.10)\n",
      "Requirement already satisfied: gast!=0.5.0,!=0.5.1,!=0.5.2,>=0.2.1 in c:\\users\\visha\\anaconda3\\lib\\site-packages (from tensorflow) (0.6.0)\n",
      "Requirement already satisfied: google-pasta>=0.1.1 in c:\\users\\visha\\anaconda3\\lib\\site-packages (from tensorflow) (0.2.0)\n",
      "Requirement already satisfied: libclang>=13.0.0 in c:\\users\\visha\\anaconda3\\lib\\site-packages (from tensorflow) (18.1.1)\n",
      "Requirement already satisfied: opt-einsum>=2.3.2 in c:\\users\\visha\\anaconda3\\lib\\site-packages (from tensorflow) (3.4.0)\n",
      "Requirement already satisfied: packaging in c:\\users\\visha\\anaconda3\\lib\\site-packages (from tensorflow) (24.1)\n",
      "Requirement already satisfied: protobuf!=4.21.0,!=4.21.1,!=4.21.2,!=4.21.3,!=4.21.4,!=4.21.5,<6.0.0dev,>=3.20.3 in c:\\users\\visha\\anaconda3\\lib\\site-packages (from tensorflow) (4.25.3)\n",
      "Requirement already satisfied: requests<3,>=2.21.0 in c:\\users\\visha\\anaconda3\\lib\\site-packages (from tensorflow) (2.32.3)\n",
      "Requirement already satisfied: setuptools in c:\\users\\visha\\anaconda3\\lib\\site-packages (from tensorflow) (75.1.0)\n",
      "Requirement already satisfied: six>=1.12.0 in c:\\users\\visha\\anaconda3\\lib\\site-packages (from tensorflow) (1.16.0)\n",
      "Requirement already satisfied: termcolor>=1.1.0 in c:\\users\\visha\\anaconda3\\lib\\site-packages (from tensorflow) (2.5.0)\n",
      "Requirement already satisfied: typing-extensions>=3.6.6 in c:\\users\\visha\\anaconda3\\lib\\site-packages (from tensorflow) (4.11.0)\n",
      "Requirement already satisfied: wrapt>=1.11.0 in c:\\users\\visha\\anaconda3\\lib\\site-packages (from tensorflow) (1.14.1)\n",
      "Requirement already satisfied: grpcio<2.0,>=1.24.3 in c:\\users\\visha\\anaconda3\\lib\\site-packages (from tensorflow) (1.71.0)\n",
      "Requirement already satisfied: tensorboard~=2.19.0 in c:\\users\\visha\\anaconda3\\lib\\site-packages (from tensorflow) (2.19.0)\n",
      "Requirement already satisfied: keras>=3.5.0 in c:\\users\\visha\\anaconda3\\lib\\site-packages (from tensorflow) (3.9.1)\n",
      "Requirement already satisfied: numpy<2.2.0,>=1.26.0 in c:\\users\\visha\\anaconda3\\lib\\site-packages (from tensorflow) (1.26.4)\n",
      "Requirement already satisfied: h5py>=3.11.0 in c:\\users\\visha\\anaconda3\\lib\\site-packages (from tensorflow) (3.11.0)\n",
      "Requirement already satisfied: ml-dtypes<1.0.0,>=0.5.1 in c:\\users\\visha\\anaconda3\\lib\\site-packages (from tensorflow) (0.5.1)\n",
      "Requirement already satisfied: wheel<1.0,>=0.23.0 in c:\\users\\visha\\anaconda3\\lib\\site-packages (from astunparse>=1.6.0->tensorflow) (0.44.0)\n",
      "Requirement already satisfied: rich in c:\\users\\visha\\anaconda3\\lib\\site-packages (from keras>=3.5.0->tensorflow) (13.7.1)\n",
      "Requirement already satisfied: namex in c:\\users\\visha\\anaconda3\\lib\\site-packages (from keras>=3.5.0->tensorflow) (0.0.8)\n",
      "Requirement already satisfied: optree in c:\\users\\visha\\anaconda3\\lib\\site-packages (from keras>=3.5.0->tensorflow) (0.14.1)\n",
      "Requirement already satisfied: charset-normalizer<4,>=2 in c:\\users\\visha\\anaconda3\\lib\\site-packages (from requests<3,>=2.21.0->tensorflow) (3.3.2)\n",
      "Requirement already satisfied: idna<4,>=2.5 in c:\\users\\visha\\anaconda3\\lib\\site-packages (from requests<3,>=2.21.0->tensorflow) (3.7)\n",
      "Requirement already satisfied: urllib3<3,>=1.21.1 in c:\\users\\visha\\anaconda3\\lib\\site-packages (from requests<3,>=2.21.0->tensorflow) (2.2.3)\n",
      "Requirement already satisfied: certifi>=2017.4.17 in c:\\users\\visha\\anaconda3\\lib\\site-packages (from requests<3,>=2.21.0->tensorflow) (2025.1.31)\n",
      "Requirement already satisfied: markdown>=2.6.8 in c:\\users\\visha\\anaconda3\\lib\\site-packages (from tensorboard~=2.19.0->tensorflow) (3.4.1)\n",
      "Requirement already satisfied: tensorboard-data-server<0.8.0,>=0.7.0 in c:\\users\\visha\\anaconda3\\lib\\site-packages (from tensorboard~=2.19.0->tensorflow) (0.7.2)\n",
      "Requirement already satisfied: werkzeug>=1.0.1 in c:\\users\\visha\\anaconda3\\lib\\site-packages (from tensorboard~=2.19.0->tensorflow) (3.0.3)\n",
      "Requirement already satisfied: MarkupSafe>=2.1.1 in c:\\users\\visha\\anaconda3\\lib\\site-packages (from werkzeug>=1.0.1->tensorboard~=2.19.0->tensorflow) (2.1.3)\n",
      "Requirement already satisfied: markdown-it-py>=2.2.0 in c:\\users\\visha\\anaconda3\\lib\\site-packages (from rich->keras>=3.5.0->tensorflow) (2.2.0)\n",
      "Requirement already satisfied: pygments<3.0.0,>=2.13.0 in c:\\users\\visha\\anaconda3\\lib\\site-packages (from rich->keras>=3.5.0->tensorflow) (2.15.1)\n",
      "Requirement already satisfied: mdurl~=0.1 in c:\\users\\visha\\anaconda3\\lib\\site-packages (from markdown-it-py>=2.2.0->rich->keras>=3.5.0->tensorflow) (0.1.0)\n"
     ]
    }
   ],
   "source": [
    "!pip install  tensorflow\n"
   ]
  },
  {
   "cell_type": "code",
   "execution_count": 76,
   "id": "8e60b581-0a44-4e89-8582-c511b7fa6374",
   "metadata": {},
   "outputs": [],
   "source": [
    "import io\n",
    "import numpy as np\n",
    "import pandas as pd\n",
    "import keras\n",
    "import plotly.express as px \n",
    "from plotly.subplots import make_subplots\n",
    "import plotly.graph_objects as go\n",
    "import seaborn as sns"
   ]
  },
  {
   "cell_type": "code",
   "execution_count": 79,
   "id": "c363c5c9-930d-452f-96c1-5bd526466a0d",
   "metadata": {},
   "outputs": [],
   "source": [
    "# @title\n",
    "chicago_taxi_dataset = pd.read_csv(\"https://download.mlcc.google.com/mledu-datasets/chicago_taxi_train.csv\")"
   ]
  },
  {
   "cell_type": "code",
   "execution_count": 80,
   "id": "900a3aeb-85d8-47cc-9458-1478cd878925",
   "metadata": {},
   "outputs": [
    {
     "name": "stdout",
     "output_type": "stream",
     "text": [
      "read dataset completed successfully\n",
      "total number of rows:31694\n",
      "\n",
      "\n"
     ]
    },
    {
     "data": {
      "text/html": [
       "<div>\n",
       "<style scoped>\n",
       "    .dataframe tbody tr th:only-of-type {\n",
       "        vertical-align: middle;\n",
       "    }\n",
       "\n",
       "    .dataframe tbody tr th {\n",
       "        vertical-align: top;\n",
       "    }\n",
       "\n",
       "    .dataframe thead th {\n",
       "        text-align: right;\n",
       "    }\n",
       "</style>\n",
       "<table border=\"1\" class=\"dataframe\">\n",
       "  <thead>\n",
       "    <tr style=\"text-align: right;\">\n",
       "      <th></th>\n",
       "      <th>TRIP_MILES</th>\n",
       "      <th>TRIP_SECONDS</th>\n",
       "      <th>FARE</th>\n",
       "      <th>COMPANY</th>\n",
       "      <th>PAYMENT_TYPE</th>\n",
       "      <th>TIP_RATE</th>\n",
       "    </tr>\n",
       "  </thead>\n",
       "  <tbody>\n",
       "    <tr>\n",
       "      <th>0</th>\n",
       "      <td>2.57</td>\n",
       "      <td>2341</td>\n",
       "      <td>31.99</td>\n",
       "      <td>Flash Cab</td>\n",
       "      <td>Mobile</td>\n",
       "      <td>6.3</td>\n",
       "    </tr>\n",
       "    <tr>\n",
       "      <th>1</th>\n",
       "      <td>1.18</td>\n",
       "      <td>1074</td>\n",
       "      <td>9.75</td>\n",
       "      <td>Flash Cab</td>\n",
       "      <td>Credit Card</td>\n",
       "      <td>27.9</td>\n",
       "    </tr>\n",
       "    <tr>\n",
       "      <th>2</th>\n",
       "      <td>1.29</td>\n",
       "      <td>1173</td>\n",
       "      <td>10.25</td>\n",
       "      <td>Sun Taxi</td>\n",
       "      <td>Cash</td>\n",
       "      <td>0.0</td>\n",
       "    </tr>\n",
       "    <tr>\n",
       "      <th>3</th>\n",
       "      <td>3.70</td>\n",
       "      <td>3360</td>\n",
       "      <td>23.75</td>\n",
       "      <td>Choice Taxi Association</td>\n",
       "      <td>Cash</td>\n",
       "      <td>0.0</td>\n",
       "    </tr>\n",
       "    <tr>\n",
       "      <th>4</th>\n",
       "      <td>1.15</td>\n",
       "      <td>1044</td>\n",
       "      <td>10.00</td>\n",
       "      <td>Flash Cab</td>\n",
       "      <td>Cash</td>\n",
       "      <td>0.0</td>\n",
       "    </tr>\n",
       "    <tr>\n",
       "      <th>...</th>\n",
       "      <td>...</td>\n",
       "      <td>...</td>\n",
       "      <td>...</td>\n",
       "      <td>...</td>\n",
       "      <td>...</td>\n",
       "      <td>...</td>\n",
       "    </tr>\n",
       "    <tr>\n",
       "      <th>195</th>\n",
       "      <td>1.13</td>\n",
       "      <td>821</td>\n",
       "      <td>9.00</td>\n",
       "      <td>Blue Ribbon Taxi Association</td>\n",
       "      <td>Mobile</td>\n",
       "      <td>22.9</td>\n",
       "    </tr>\n",
       "    <tr>\n",
       "      <th>196</th>\n",
       "      <td>0.57</td>\n",
       "      <td>414</td>\n",
       "      <td>6.00</td>\n",
       "      <td>Flash Cab</td>\n",
       "      <td>Cash</td>\n",
       "      <td>0.0</td>\n",
       "    </tr>\n",
       "    <tr>\n",
       "      <th>197</th>\n",
       "      <td>1.22</td>\n",
       "      <td>886</td>\n",
       "      <td>9.00</td>\n",
       "      <td>City Service</td>\n",
       "      <td>Cash</td>\n",
       "      <td>0.0</td>\n",
       "    </tr>\n",
       "    <tr>\n",
       "      <th>198</th>\n",
       "      <td>1.68</td>\n",
       "      <td>1219</td>\n",
       "      <td>9.00</td>\n",
       "      <td>Sun Taxi</td>\n",
       "      <td>Mobile</td>\n",
       "      <td>23.0</td>\n",
       "    </tr>\n",
       "    <tr>\n",
       "      <th>199</th>\n",
       "      <td>0.71</td>\n",
       "      <td>515</td>\n",
       "      <td>6.50</td>\n",
       "      <td>Sun Taxi</td>\n",
       "      <td>Credit Card</td>\n",
       "      <td>18.2</td>\n",
       "    </tr>\n",
       "  </tbody>\n",
       "</table>\n",
       "<p>200 rows × 6 columns</p>\n",
       "</div>"
      ],
      "text/plain": [
       "     TRIP_MILES  TRIP_SECONDS   FARE                       COMPANY  \\\n",
       "0          2.57          2341  31.99                     Flash Cab   \n",
       "1          1.18          1074   9.75                     Flash Cab   \n",
       "2          1.29          1173  10.25                      Sun Taxi   \n",
       "3          3.70          3360  23.75       Choice Taxi Association   \n",
       "4          1.15          1044  10.00                     Flash Cab   \n",
       "..          ...           ...    ...                           ...   \n",
       "195        1.13           821   9.00  Blue Ribbon Taxi Association   \n",
       "196        0.57           414   6.00                     Flash Cab   \n",
       "197        1.22           886   9.00                  City Service   \n",
       "198        1.68          1219   9.00                      Sun Taxi   \n",
       "199        0.71           515   6.50                      Sun Taxi   \n",
       "\n",
       "    PAYMENT_TYPE  TIP_RATE  \n",
       "0         Mobile       6.3  \n",
       "1    Credit Card      27.9  \n",
       "2           Cash       0.0  \n",
       "3           Cash       0.0  \n",
       "4           Cash       0.0  \n",
       "..           ...       ...  \n",
       "195       Mobile      22.9  \n",
       "196         Cash       0.0  \n",
       "197         Cash       0.0  \n",
       "198       Mobile      23.0  \n",
       "199  Credit Card      18.2  \n",
       "\n",
       "[200 rows x 6 columns]"
      ]
     },
     "execution_count": 80,
     "metadata": {},
     "output_type": "execute_result"
    }
   ],
   "source": [
    "training_df=chicago_taxi_dataset[['TRIP_MILES','TRIP_SECONDS','FARE','COMPANY','PAYMENT_TYPE','TIP_RATE']]\n",
    "print('read dataset completed successfully')\n",
    "print('total number of rows:{0}\\n\\n'.format(len(training_df.index)))\n",
    "training_df.head(200)"
   ]
  },
  {
   "cell_type": "code",
   "execution_count": 83,
   "id": "46d282c4-77f1-4b90-8275-bc0e05415cab",
   "metadata": {},
   "outputs": [
    {
     "name": "stdout",
     "output_type": "stream",
     "text": [
      "total number of rows:31694\n",
      "\n",
      "\n"
     ]
    },
    {
     "data": {
      "text/html": [
       "<div>\n",
       "<style scoped>\n",
       "    .dataframe tbody tr th:only-of-type {\n",
       "        vertical-align: middle;\n",
       "    }\n",
       "\n",
       "    .dataframe tbody tr th {\n",
       "        vertical-align: top;\n",
       "    }\n",
       "\n",
       "    .dataframe thead th {\n",
       "        text-align: right;\n",
       "    }\n",
       "</style>\n",
       "<table border=\"1\" class=\"dataframe\">\n",
       "  <thead>\n",
       "    <tr style=\"text-align: right;\">\n",
       "      <th></th>\n",
       "      <th>TRIP_MILES</th>\n",
       "      <th>TRIP_SECONDS</th>\n",
       "      <th>FARE</th>\n",
       "      <th>COMPANY</th>\n",
       "      <th>PAYMENT_TYPE</th>\n",
       "      <th>TIP_RATE</th>\n",
       "    </tr>\n",
       "  </thead>\n",
       "  <tbody>\n",
       "    <tr>\n",
       "      <th>count</th>\n",
       "      <td>31694.000000</td>\n",
       "      <td>31694.000000</td>\n",
       "      <td>31694.000000</td>\n",
       "      <td>31694</td>\n",
       "      <td>31694</td>\n",
       "      <td>31694.000000</td>\n",
       "    </tr>\n",
       "    <tr>\n",
       "      <th>unique</th>\n",
       "      <td>NaN</td>\n",
       "      <td>NaN</td>\n",
       "      <td>NaN</td>\n",
       "      <td>31</td>\n",
       "      <td>7</td>\n",
       "      <td>NaN</td>\n",
       "    </tr>\n",
       "    <tr>\n",
       "      <th>top</th>\n",
       "      <td>NaN</td>\n",
       "      <td>NaN</td>\n",
       "      <td>NaN</td>\n",
       "      <td>Flash Cab</td>\n",
       "      <td>Credit Card</td>\n",
       "      <td>NaN</td>\n",
       "    </tr>\n",
       "    <tr>\n",
       "      <th>freq</th>\n",
       "      <td>NaN</td>\n",
       "      <td>NaN</td>\n",
       "      <td>NaN</td>\n",
       "      <td>7887</td>\n",
       "      <td>14142</td>\n",
       "      <td>NaN</td>\n",
       "    </tr>\n",
       "    <tr>\n",
       "      <th>mean</th>\n",
       "      <td>8.289463</td>\n",
       "      <td>1319.796397</td>\n",
       "      <td>23.905210</td>\n",
       "      <td>NaN</td>\n",
       "      <td>NaN</td>\n",
       "      <td>12.965785</td>\n",
       "    </tr>\n",
       "    <tr>\n",
       "      <th>std</th>\n",
       "      <td>7.265672</td>\n",
       "      <td>928.932873</td>\n",
       "      <td>16.970022</td>\n",
       "      <td>NaN</td>\n",
       "      <td>NaN</td>\n",
       "      <td>15.517765</td>\n",
       "    </tr>\n",
       "    <tr>\n",
       "      <th>min</th>\n",
       "      <td>0.500000</td>\n",
       "      <td>60.000000</td>\n",
       "      <td>3.250000</td>\n",
       "      <td>NaN</td>\n",
       "      <td>NaN</td>\n",
       "      <td>0.000000</td>\n",
       "    </tr>\n",
       "    <tr>\n",
       "      <th>25%</th>\n",
       "      <td>1.720000</td>\n",
       "      <td>548.000000</td>\n",
       "      <td>9.000000</td>\n",
       "      <td>NaN</td>\n",
       "      <td>NaN</td>\n",
       "      <td>0.000000</td>\n",
       "    </tr>\n",
       "    <tr>\n",
       "      <th>50%</th>\n",
       "      <td>5.920000</td>\n",
       "      <td>1081.000000</td>\n",
       "      <td>18.750000</td>\n",
       "      <td>NaN</td>\n",
       "      <td>NaN</td>\n",
       "      <td>12.200000</td>\n",
       "    </tr>\n",
       "    <tr>\n",
       "      <th>75%</th>\n",
       "      <td>14.500000</td>\n",
       "      <td>1888.000000</td>\n",
       "      <td>38.750000</td>\n",
       "      <td>NaN</td>\n",
       "      <td>NaN</td>\n",
       "      <td>20.800000</td>\n",
       "    </tr>\n",
       "    <tr>\n",
       "      <th>max</th>\n",
       "      <td>68.120000</td>\n",
       "      <td>7140.000000</td>\n",
       "      <td>159.250000</td>\n",
       "      <td>NaN</td>\n",
       "      <td>NaN</td>\n",
       "      <td>648.600000</td>\n",
       "    </tr>\n",
       "  </tbody>\n",
       "</table>\n",
       "</div>"
      ],
      "text/plain": [
       "          TRIP_MILES  TRIP_SECONDS          FARE    COMPANY PAYMENT_TYPE  \\\n",
       "count   31694.000000  31694.000000  31694.000000      31694        31694   \n",
       "unique           NaN           NaN           NaN         31            7   \n",
       "top              NaN           NaN           NaN  Flash Cab  Credit Card   \n",
       "freq             NaN           NaN           NaN       7887        14142   \n",
       "mean        8.289463   1319.796397     23.905210        NaN          NaN   \n",
       "std         7.265672    928.932873     16.970022        NaN          NaN   \n",
       "min         0.500000     60.000000      3.250000        NaN          NaN   \n",
       "25%         1.720000    548.000000      9.000000        NaN          NaN   \n",
       "50%         5.920000   1081.000000     18.750000        NaN          NaN   \n",
       "75%        14.500000   1888.000000     38.750000        NaN          NaN   \n",
       "max        68.120000   7140.000000    159.250000        NaN          NaN   \n",
       "\n",
       "            TIP_RATE  \n",
       "count   31694.000000  \n",
       "unique           NaN  \n",
       "top              NaN  \n",
       "freq             NaN  \n",
       "mean       12.965785  \n",
       "std        15.517765  \n",
       "min         0.000000  \n",
       "25%         0.000000  \n",
       "50%        12.200000  \n",
       "75%        20.800000  \n",
       "max       648.600000  "
      ]
     },
     "execution_count": 83,
     "metadata": {},
     "output_type": "execute_result"
    }
   ],
   "source": [
    "print('total number of rows:{0}\\n\\n'.format(len(training_df.index)))\n",
    "training_df.describe(include='all')"
   ]
  },
  {
   "cell_type": "code",
   "execution_count": 85,
   "id": "5c24f1d5-f6cd-4e9f-a2d3-05a2da618c1f",
   "metadata": {},
   "outputs": [
    {
     "data": {
      "text/plain": [
       "TRIP_MILES      0\n",
       "TRIP_SECONDS    0\n",
       "FARE            0\n",
       "COMPANY         0\n",
       "PAYMENT_TYPE    0\n",
       "TIP_RATE        0\n",
       "dtype: int64"
      ]
     },
     "execution_count": 85,
     "metadata": {},
     "output_type": "execute_result"
    }
   ],
   "source": [
    "training_df.isnull().sum()"
   ]
  },
  {
   "cell_type": "code",
   "execution_count": 87,
   "id": "4a375694-ddc5-42eb-bdfb-73941c2a43b0",
   "metadata": {},
   "outputs": [
    {
     "name": "stdout",
     "output_type": "stream",
     "text": [
      "What is the maximum fare? \t\t\t\tAnswer: $159.25\n",
      "What is the mean distance across all trips? \t\tAnswer: 8.2895 miles\n",
      "How many cab companies are in the dataset? \t\tAnswer: 31\n",
      "What is the most frequent payment type? \t\tAnswer: Credit Card\n",
      "Are any features missing data? \t\t\t\tAnswer: No\n"
     ]
    }
   ],
   "source": [
    "\n",
    "# Run this code cell to verify your answers.\n",
    "\n",
    "# What is the maximum fare?\n",
    "max_fare = training_df['FARE'].max()\n",
    "print(\"What is the maximum fare? \\t\\t\\t\\tAnswer: ${fare:.2f}\".format(fare = max_fare))\n",
    "\n",
    "# What is the mean distance across all trips?\n",
    "mean_distance = training_df['TRIP_MILES'].mean()\n",
    "print(\"What is the mean distance across all trips? \\t\\tAnswer: {mean:.4f} miles\".format(mean = mean_distance))\n",
    "\n",
    "# How many cab companies are in the dataset?\n",
    "num_unique_companies =  training_df['COMPANY'].nunique()\n",
    "print(\"How many cab companies are in the dataset? \\t\\tAnswer: {number}\".format(number = num_unique_companies))\n",
    "\n",
    "# What is the most frequent payment type?\n",
    "most_freq_payment_type = training_df['PAYMENT_TYPE'].value_counts().idxmax()\n",
    "print(\"What is the most frequent payment type? \\t\\tAnswer: {type}\".format(type = most_freq_payment_type))\n",
    "\n",
    "# Are any features missing data?\n",
    "missing_values = training_df.isnull().sum().sum()\n",
    "print(\"Are any features missing data? \\t\\t\\t\\tAnswer:\", \"No\" if missing_values == 0 else \"Yes\")"
   ]
  },
  {
   "cell_type": "code",
   "execution_count": 89,
   "id": "d69fa84d-052d-43e1-84e1-e097ffecbfdb",
   "metadata": {},
   "outputs": [
    {
     "data": {
      "text/html": [
       "<div>\n",
       "<style scoped>\n",
       "    .dataframe tbody tr th:only-of-type {\n",
       "        vertical-align: middle;\n",
       "    }\n",
       "\n",
       "    .dataframe tbody tr th {\n",
       "        vertical-align: top;\n",
       "    }\n",
       "\n",
       "    .dataframe thead th {\n",
       "        text-align: right;\n",
       "    }\n",
       "</style>\n",
       "<table border=\"1\" class=\"dataframe\">\n",
       "  <thead>\n",
       "    <tr style=\"text-align: right;\">\n",
       "      <th></th>\n",
       "      <th>TRIP_MILES</th>\n",
       "      <th>TRIP_SECONDS</th>\n",
       "      <th>FARE</th>\n",
       "      <th>TIP_RATE</th>\n",
       "    </tr>\n",
       "  </thead>\n",
       "  <tbody>\n",
       "    <tr>\n",
       "      <th>TRIP_MILES</th>\n",
       "      <td>1.000000</td>\n",
       "      <td>0.800855</td>\n",
       "      <td>0.975344</td>\n",
       "      <td>-0.049594</td>\n",
       "    </tr>\n",
       "    <tr>\n",
       "      <th>TRIP_SECONDS</th>\n",
       "      <td>0.800855</td>\n",
       "      <td>1.000000</td>\n",
       "      <td>0.830292</td>\n",
       "      <td>-0.084294</td>\n",
       "    </tr>\n",
       "    <tr>\n",
       "      <th>FARE</th>\n",
       "      <td>0.975344</td>\n",
       "      <td>0.830292</td>\n",
       "      <td>1.000000</td>\n",
       "      <td>-0.070979</td>\n",
       "    </tr>\n",
       "    <tr>\n",
       "      <th>TIP_RATE</th>\n",
       "      <td>-0.049594</td>\n",
       "      <td>-0.084294</td>\n",
       "      <td>-0.070979</td>\n",
       "      <td>1.000000</td>\n",
       "    </tr>\n",
       "  </tbody>\n",
       "</table>\n",
       "</div>"
      ],
      "text/plain": [
       "              TRIP_MILES  TRIP_SECONDS      FARE  TIP_RATE\n",
       "TRIP_MILES      1.000000      0.800855  0.975344 -0.049594\n",
       "TRIP_SECONDS    0.800855      1.000000  0.830292 -0.084294\n",
       "FARE            0.975344      0.830292  1.000000 -0.070979\n",
       "TIP_RATE       -0.049594     -0.084294 -0.070979  1.000000"
      ]
     },
     "execution_count": 89,
     "metadata": {},
     "output_type": "execute_result"
    }
   ],
   "source": [
    "training_df.corr(numeric_only=True)"
   ]
  },
  {
   "cell_type": "code",
   "execution_count": 91,
   "id": "86776582-95e7-4ad6-91ac-af44e8b4a714",
   "metadata": {},
   "outputs": [
    {
     "data": {
      "text/plain": [
       "<seaborn.axisgrid.PairGrid at 0x1f06c47fa10>"
      ]
     },
     "execution_count": 91,
     "metadata": {},
     "output_type": "execute_result"
    },
    {
     "data": {
      "image/png": "[encoded data removed]",
      "text/plain": [
       "<Figure size 750x750 with 12 Axes>"
      ]
     },
     "metadata": {},
     "output_type": "display_data"
    }
   ],
   "source": [
    "\n",
    "\n",
    "sns.pairplot(training_df,x_vars=['FARE','TRIP_MILES','TRIP_SECONDS'], y_vars=['FARE','TRIP_MILES','TRIP_SECONDS'])"
   ]
  },
  {
   "cell_type": "code",
   "execution_count": 92,
   "id": "ef233c79-6ec1-494b-8a01-c87da9ba5073",
   "metadata": {},
   "outputs": [
    {
     "name": "stdout",
     "output_type": "stream",
     "text": [
      "SUCCESS: defining plotting functions complete.\n"
     ]
    }
   ],
   "source": [
    "#@title Define plotting functions\n",
    "\n",
    "def make_plots(df, feature_names, label_name, model_output, sample_size=200):\n",
    "\n",
    "  random_sample = df.sample(n=sample_size).copy()\n",
    "  random_sample.reset_index()\n",
    "  weights, bias, epochs, rmse = model_output\n",
    "\n",
    "  is_2d_plot = len(feature_names) == 1\n",
    "  model_plot_type = \"scatter\" if is_2d_plot else \"surface\"\n",
    "  fig = make_subplots(rows=1, cols=2,\n",
    "                      subplot_titles=(\"Loss Curve\", \"Model Plot\"),\n",
    "                      specs=[[{\"type\": \"scatter\"}, {\"type\": model_plot_type}]])\n",
    "\n",
    "  plot_data(random_sample, feature_names, label_name, fig)\n",
    "  plot_model(random_sample, feature_names, weights, bias, fig)\n",
    "  plot_loss_curve(epochs, rmse, fig)\n",
    "\n",
    "  fig.show()\n",
    "  return\n",
    "\n",
    "def plot_loss_curve(epochs, rmse, fig):\n",
    "  curve = px.line(x=epochs, y=rmse)\n",
    "  curve.update_traces(line_color='#ff0000', line_width=3)\n",
    "\n",
    "  fig.append_trace(curve.data[0], row=1, col=1)\n",
    "  fig.update_xaxes(title_text=\"Epoch\", row=1, col=1)\n",
    "  fig.update_yaxes(title_text=\"Root Mean Squared Error\", row=1, col=1, range=[rmse.min()*0.8, rmse.max()])\n",
    "\n",
    "  return\n",
    "\n",
    "def plot_data(df, features, label, fig):\n",
    "  if len(features) == 1:\n",
    "    scatter = px.scatter(df, x=features[0], y=label)\n",
    "  else:\n",
    "    scatter = px.scatter_3d(df, x=features[0], y=features[1], z=label)\n",
    "\n",
    "  fig.append_trace(scatter.data[0], row=1, col=2)\n",
    "  if len(features) == 1:\n",
    "    fig.update_xaxes(title_text=features[0], row=1, col=2)\n",
    "    fig.update_yaxes(title_text=label, row=1, col=2)\n",
    "  else:\n",
    "    fig.update_layout(scene1=dict(xaxis_title=features[0], yaxis_title=features[1], zaxis_title=label))\n",
    "\n",
    "  return\n",
    "\n",
    "def plot_model(df, features, weights, bias, fig):\n",
    "  df['FARE_PREDICTED'] = bias[0]\n",
    "\n",
    "  for index, feature in enumerate(features):\n",
    "    df['FARE_PREDICTED'] = df['FARE_PREDICTED'] + weights[index][0] * df[feature]\n",
    "\n",
    "  if len(features) == 1:\n",
    "    model = px.line(df, x=features[0], y='FARE_PREDICTED')\n",
    "    model.update_traces(line_color='#ff0000', line_width=3)\n",
    "  else:\n",
    "    z_name, y_name = \"FARE_PREDICTED\", features[1]\n",
    "    z = [df[z_name].min(), (df[z_name].max() - df[z_name].min()) / 2, df[z_name].max()]\n",
    "    y = [df[y_name].min(), (df[y_name].max() - df[y_name].min()) / 2, df[y_name].max()]\n",
    "    x = []\n",
    "    for i in range(len(y)):\n",
    "      x.append((z[i] - weights[1][0] * y[i] - bias[0]) / weights[0][0])\n",
    "\n",
    "    plane=pd.DataFrame({'x':x, 'y':y, 'z':[z] * 3})\n",
    "\n",
    "    light_yellow = [[0, '#89CFF0'], [1, '#FFDB58']]\n",
    "    model = go.Figure(data=go.Surface(x=plane['x'], y=plane['y'], z=plane['z'],\n",
    "                                      colorscale=light_yellow))\n",
    "\n",
    "  fig.add_trace(model.data[0], row=1, col=2)\n",
    "\n",
    "  return\n",
    "\n",
    "def model_info(feature_names, label_name, model_output):\n",
    "  weights = model_output[0]\n",
    "  bias = model_output[1]\n",
    "\n",
    "  nl = \"\\n\"\n",
    "  header = \"-\" * 80\n",
    "  banner = header + nl + \"|\" + \"MODEL INFO\".center(78) + \"|\" + nl + header\n",
    "\n",
    "  info = \"\"\n",
    "  equation = label_name + \" = \"\n",
    "\n",
    "  for index, feature in enumerate(feature_names):\n",
    "    info = info + \"Weight for feature[{}]: {:.3f}\\n\".format(feature, weights[index][0])\n",
    "    equation = equation + \"{:.3f} * {} + \".format(weights[index][0], feature)\n",
    "\n",
    "  info = info + \"Bias: {:.3f}\\n\".format(bias[0])\n",
    "  equation = equation + \"{:.3f}\\n\".format(bias[0])\n",
    "\n",
    "  return banner + nl + info + nl + equation\n",
    "\n",
    "print(\"SUCCESS: defining plotting functions complete.\")"
   ]
  },
  {
   "cell_type": "code",
   "execution_count": 109,
   "id": "a8f859b5-5c40-4008-887c-d0017fd09f66",
   "metadata": {},
   "outputs": [
    {
     "name": "stdout",
     "output_type": "stream",
     "text": [
      "SUCCESS: defining linear regression functions complete.\n"
     ]
    }
   ],
   "source": [
    "#@title Code - Define ML functions\n",
    "\n",
    "def build_model(my_learning_rate, num_features):\n",
    "  \"\"\"Create and compile a simple linear regression model.\"\"\"\n",
    "  # Describe the topography of the model.\n",
    "  # The topography of a simple linear regression model\n",
    "  # is a single node in a single layer.\n",
    "  inputs = keras.Input(shape=(num_features,))\n",
    "  outputs = keras.layers.Dense(units=1)(inputs)\n",
    "  model = keras.Model(inputs=inputs, outputs=outputs)\n",
    "\n",
    "  # Compile the model topography into code that Keras can efficiently\n",
    "  # execute. Configure training to minimize the model's mean squared error.\n",
    "  model.compile(optimizer=keras.optimizers.RMSprop(learning_rate=my_learning_rate),\n",
    "                loss=\"mean_squared_error\",\n",
    "                metrics=[keras.metrics.RootMeanSquaredError()])\n",
    "\n",
    "  return model\n",
    "\n",
    "\n",
    "def train_model(model, features, label, epochs, batch_size):\n",
    "  \"\"\"Train the model by feeding it data.\"\"\"\n",
    "\n",
    "  # Feed the model the feature and the label.\n",
    "  # The model will train for the specified number of epochs.\n",
    "  history = model.fit(x=features,\n",
    "                      y=label,\n",
    "                      batch_size=batch_size,\n",
    "                      epochs=epochs)\n",
    "\n",
    "  # Gather the trained model's weight and bias.\n",
    "  trained_weight = model.get_weights()[0]\n",
    "  trained_bias = model.get_weights()[1]\n",
    "\n",
    "  # The list of epochs is stored separately from the rest of history.\n",
    "  epochs = history.epoch\n",
    "\n",
    "  # Isolate the error for each epoch.\n",
    "  hist = pd.DataFrame(history.history)\n",
    "\n",
    "  # To track the progression of training, we're going to take a snapshot\n",
    "  # of the model's root mean squared error at each epoch.\n",
    "  rmse = hist[\"root_mean_squared_error\"]\n",
    "\n",
    "  return trained_weight, trained_bias, epochs, rmse\n",
    "\n",
    "\n",
    "def run_experiment(df, feature_names, label_name, learning_rate, epochs, batch_size):\n",
    "\n",
    "  print('INFO: starting training experiment with features={} and label={}\\n'.format(feature_names, label_name))\n",
    "\n",
    "  num_features = len(feature_names)\n",
    "\n",
    "  features = df.loc[:, feature_names].values\n",
    "  label = df[label_name].values\n",
    "\n",
    "  model = build_model(learning_rate, num_features)\n",
    "  model_output = train_model(model, features, label, epochs, batch_size)\n",
    "\n",
    "  print('\\nSUCCESS: training experiment complete\\n')\n",
    "  print('{}'.format(model_info(feature_names, label_name, model_output)))\n",
    "  make_plots(df, feature_names, label_name, model_output)\n",
    "\n",
    "  return model\n",
    "\n",
    "print(\"SUCCESS: defining linear regression functions complete.\")"
   ]
  },
  {
   "cell_type": "code",
   "execution_count": 125,
   "id": "7433762d-b9ab-4efd-925e-a6edc93f8001",
   "metadata": {},
   "outputs": [
    {
     "name": "stdout",
     "output_type": "stream",
     "text": [
      "INFO: starting training experiment with features=['TRIP_MILES'] and label=FARE\n",
      "\n",
      "Epoch 1/50\n",
      "\u001b[1m634/634\u001b[0m \u001b[32m━━━━━━━━━━━━━━━━━━━━\u001b[0m\u001b[37m\u001b[0m \u001b[1m1s\u001b[0m 1ms/step - loss: 162.7357 - root_mean_squared_error: 12.1353  \n",
      "Epoch 2/50\n",
      "\u001b[1m634/634\u001b[0m \u001b[32m━━━━━━━━━━━━━━━━━━━━\u001b[0m\u001b[37m\u001b[0m \u001b[1m1s\u001b[0m 1ms/step - loss: 14.5416 - root_mean_squared_error: 3.8089\n",
      "Epoch 3/50\n",
      "\u001b[1m634/634\u001b[0m \u001b[32m━━━━━━━━━━━━━━━━━━━━\u001b[0m\u001b[37m\u001b[0m \u001b[1m1s\u001b[0m 890us/step - loss: 14.3765 - root_mean_squared_error: 3.7867\n",
      "Epoch 4/50\n",
      "\u001b[1m634/634\u001b[0m \u001b[32m━━━━━━━━━━━━━━━━━━━━\u001b[0m\u001b[37m\u001b[0m \u001b[1m1s\u001b[0m 1ms/step - loss: 15.4607 - root_mean_squared_error: 3.9157\n",
      "Epoch 5/50\n",
      "\u001b[1m634/634\u001b[0m \u001b[32m━━━━━━━━━━━━━━━━━━━━\u001b[0m\u001b[37m\u001b[0m \u001b[1m1s\u001b[0m 1ms/step - loss: 13.2668 - root_mean_squared_error: 3.6393  \n",
      "Epoch 6/50\n",
      "\u001b[1m634/634\u001b[0m \u001b[32m━━━━━━━━━━━━━━━━━━━━\u001b[0m\u001b[37m\u001b[0m \u001b[1m1s\u001b[0m 1ms/step - loss: 13.2801 - root_mean_squared_error: 3.6403\n",
      "Epoch 7/50\n",
      "\u001b[1m634/634\u001b[0m \u001b[32m━━━━━━━━━━━━━━━━━━━━\u001b[0m\u001b[37m\u001b[0m \u001b[1m1s\u001b[0m 1ms/step - loss: 14.0785 - root_mean_squared_error: 3.7467  \n",
      "Epoch 8/50\n",
      "\u001b[1m634/634\u001b[0m \u001b[32m━━━━━━━━━━━━━━━━━━━━\u001b[0m\u001b[37m\u001b[0m \u001b[1m1s\u001b[0m 1ms/step - loss: 13.9933 - root_mean_squared_error: 3.7346\n",
      "Epoch 9/50\n",
      "\u001b[1m634/634\u001b[0m \u001b[32m━━━━━━━━━━━━━━━━━━━━\u001b[0m\u001b[37m\u001b[0m \u001b[1m1s\u001b[0m 1ms/step - loss: 13.5381 - root_mean_squared_error: 3.6771\n",
      "Epoch 10/50\n",
      "\u001b[1m634/634\u001b[0m \u001b[32m━━━━━━━━━━━━━━━━━━━━\u001b[0m\u001b[37m\u001b[0m \u001b[1m1s\u001b[0m 1ms/step - loss: 14.3840 - root_mean_squared_error: 3.7890  \n",
      "Epoch 11/50\n",
      "\u001b[1m634/634\u001b[0m \u001b[32m━━━━━━━━━━━━━━━━━━━━\u001b[0m\u001b[37m\u001b[0m \u001b[1m1s\u001b[0m 1ms/step - loss: 15.0226 - root_mean_squared_error: 3.8638\n",
      "Epoch 12/50\n",
      "\u001b[1m634/634\u001b[0m \u001b[32m━━━━━━━━━━━━━━━━━━━━\u001b[0m\u001b[37m\u001b[0m \u001b[1m1s\u001b[0m 1ms/step - loss: 14.1584 - root_mean_squared_error: 3.7569\n",
      "Epoch 13/50\n",
      "\u001b[1m634/634\u001b[0m \u001b[32m━━━━━━━━━━━━━━━━━━━━\u001b[0m\u001b[37m\u001b[0m \u001b[1m1s\u001b[0m 1ms/step - loss: 14.2200 - root_mean_squared_error: 3.7640\n",
      "Epoch 14/50\n",
      "\u001b[1m634/634\u001b[0m \u001b[32m━━━━━━━━━━━━━━━━━━━━\u001b[0m\u001b[37m\u001b[0m \u001b[1m1s\u001b[0m 957us/step - loss: 12.3334 - root_mean_squared_error: 3.5042\n",
      "Epoch 15/50\n",
      "\u001b[1m634/634\u001b[0m \u001b[32m━━━━━━━━━━━━━━━━━━━━\u001b[0m\u001b[37m\u001b[0m \u001b[1m1s\u001b[0m 920us/step - loss: 14.0684 - root_mean_squared_error: 3.7395\n",
      "Epoch 16/50\n",
      "\u001b[1m634/634\u001b[0m \u001b[32m━━━━━━━━━━━━━━━━━━━━\u001b[0m\u001b[37m\u001b[0m \u001b[1m1s\u001b[0m 901us/step - loss: 14.1555 - root_mean_squared_error: 3.7549\n",
      "Epoch 17/50\n",
      "\u001b[1m634/634\u001b[0m \u001b[32m━━━━━━━━━━━━━━━━━━━━\u001b[0m\u001b[37m\u001b[0m \u001b[1m1s\u001b[0m 872us/step - loss: 13.8937 - root_mean_squared_error: 3.7245\n",
      "Epoch 18/50\n",
      "\u001b[1m634/634\u001b[0m \u001b[32m━━━━━━━━━━━━━━━━━━━━\u001b[0m\u001b[37m\u001b[0m \u001b[1m1s\u001b[0m 958us/step - loss: 14.7270 - root_mean_squared_error: 3.8359\n",
      "Epoch 19/50\n",
      "\u001b[1m634/634\u001b[0m \u001b[32m━━━━━━━━━━━━━━━━━━━━\u001b[0m\u001b[37m\u001b[0m \u001b[1m1s\u001b[0m 1ms/step - loss: 14.5203 - root_mean_squared_error: 3.7983\n",
      "Epoch 20/50\n",
      "\u001b[1m634/634\u001b[0m \u001b[32m━━━━━━━━━━━━━━━━━━━━\u001b[0m\u001b[37m\u001b[0m \u001b[1m1s\u001b[0m 1ms/step - loss: 13.1827 - root_mean_squared_error: 3.6282\n",
      "Epoch 21/50\n",
      "\u001b[1m634/634\u001b[0m \u001b[32m━━━━━━━━━━━━━━━━━━━━\u001b[0m\u001b[37m\u001b[0m \u001b[1m1s\u001b[0m 1ms/step - loss: 14.1142 - root_mean_squared_error: 3.7475\n",
      "Epoch 22/50\n",
      "\u001b[1m634/634\u001b[0m \u001b[32m━━━━━━━━━━━━━━━━━━━━\u001b[0m\u001b[37m\u001b[0m \u001b[1m1s\u001b[0m 943us/step - loss: 14.2955 - root_mean_squared_error: 3.7741\n",
      "Epoch 23/50\n",
      "\u001b[1m634/634\u001b[0m \u001b[32m━━━━━━━━━━━━━━━━━━━━\u001b[0m\u001b[37m\u001b[0m \u001b[1m1s\u001b[0m 1ms/step - loss: 16.1277 - root_mean_squared_error: 3.9962  \n",
      "Epoch 24/50\n",
      "\u001b[1m634/634\u001b[0m \u001b[32m━━━━━━━━━━━━━━━━━━━━\u001b[0m\u001b[37m\u001b[0m \u001b[1m1s\u001b[0m 1ms/step - loss: 15.3532 - root_mean_squared_error: 3.9010\n",
      "Epoch 25/50\n",
      "\u001b[1m634/634\u001b[0m \u001b[32m━━━━━━━━━━━━━━━━━━━━\u001b[0m\u001b[37m\u001b[0m \u001b[1m1s\u001b[0m 1ms/step - loss: 13.5127 - root_mean_squared_error: 3.6660\n",
      "Epoch 26/50\n",
      "\u001b[1m634/634\u001b[0m \u001b[32m━━━━━━━━━━━━━━━━━━━━\u001b[0m\u001b[37m\u001b[0m \u001b[1m1s\u001b[0m 1ms/step - loss: 14.7831 - root_mean_squared_error: 3.8418\n",
      "Epoch 27/50\n",
      "\u001b[1m634/634\u001b[0m \u001b[32m━━━━━━━━━━━━━━━━━━━━\u001b[0m\u001b[37m\u001b[0m \u001b[1m1s\u001b[0m 1ms/step - loss: 12.7147 - root_mean_squared_error: 3.5543\n",
      "Epoch 28/50\n",
      "\u001b[1m634/634\u001b[0m \u001b[32m━━━━━━━━━━━━━━━━━━━━\u001b[0m\u001b[37m\u001b[0m \u001b[1m1s\u001b[0m 1ms/step - loss: 14.3598 - root_mean_squared_error: 3.7857\n",
      "Epoch 29/50\n",
      "\u001b[1m634/634\u001b[0m \u001b[32m━━━━━━━━━━━━━━━━━━━━\u001b[0m\u001b[37m\u001b[0m \u001b[1m1s\u001b[0m 1ms/step - loss: 14.1330 - root_mean_squared_error: 3.7561\n",
      "Epoch 30/50\n",
      "\u001b[1m634/634\u001b[0m \u001b[32m━━━━━━━━━━━━━━━━━━━━\u001b[0m\u001b[37m\u001b[0m \u001b[1m1s\u001b[0m 1ms/step - loss: 14.1358 - root_mean_squared_error: 3.7556\n",
      "Epoch 31/50\n",
      "\u001b[1m634/634\u001b[0m \u001b[32m━━━━━━━━━━━━━━━━━━━━\u001b[0m\u001b[37m\u001b[0m \u001b[1m1s\u001b[0m 1ms/step - loss: 15.0206 - root_mean_squared_error: 3.8645\n",
      "Epoch 32/50\n",
      "\u001b[1m634/634\u001b[0m \u001b[32m━━━━━━━━━━━━━━━━━━━━\u001b[0m\u001b[37m\u001b[0m \u001b[1m1s\u001b[0m 1ms/step - loss: 13.6310 - root_mean_squared_error: 3.6803\n",
      "Epoch 33/50\n",
      "\u001b[1m634/634\u001b[0m \u001b[32m━━━━━━━━━━━━━━━━━━━━\u001b[0m\u001b[37m\u001b[0m \u001b[1m1s\u001b[0m 1ms/step - loss: 13.4631 - root_mean_squared_error: 3.6631\n",
      "Epoch 34/50\n",
      "\u001b[1m634/634\u001b[0m \u001b[32m━━━━━━━━━━━━━━━━━━━━\u001b[0m\u001b[37m\u001b[0m \u001b[1m1s\u001b[0m 962us/step - loss: 14.4053 - root_mean_squared_error: 3.7864\n",
      "Epoch 35/50\n",
      "\u001b[1m634/634\u001b[0m \u001b[32m━━━━━━━━━━━━━━━━━━━━\u001b[0m\u001b[37m\u001b[0m \u001b[1m1s\u001b[0m 948us/step - loss: 13.6367 - root_mean_squared_error: 3.6903\n",
      "Epoch 36/50\n",
      "\u001b[1m634/634\u001b[0m \u001b[32m━━━━━━━━━━━━━━━━━━━━\u001b[0m\u001b[37m\u001b[0m \u001b[1m1s\u001b[0m 1ms/step - loss: 13.8919 - root_mean_squared_error: 3.7232\n",
      "Epoch 37/50\n",
      "\u001b[1m634/634\u001b[0m \u001b[32m━━━━━━━━━━━━━━━━━━━━\u001b[0m\u001b[37m\u001b[0m \u001b[1m1s\u001b[0m 870us/step - loss: 13.5596 - root_mean_squared_error: 3.6754\n",
      "Epoch 38/50\n",
      "\u001b[1m634/634\u001b[0m \u001b[32m━━━━━━━━━━━━━━━━━━━━\u001b[0m\u001b[37m\u001b[0m \u001b[1m1s\u001b[0m 875us/step - loss: 13.3938 - root_mean_squared_error: 3.6492\n",
      "Epoch 39/50\n",
      "\u001b[1m634/634\u001b[0m \u001b[32m━━━━━━━━━━━━━━━━━━━━\u001b[0m\u001b[37m\u001b[0m \u001b[1m1s\u001b[0m 969us/step - loss: 15.8705 - root_mean_squared_error: 3.9666\n",
      "Epoch 40/50\n",
      "\u001b[1m634/634\u001b[0m \u001b[32m━━━━━━━━━━━━━━━━━━━━\u001b[0m\u001b[37m\u001b[0m \u001b[1m1s\u001b[0m 1ms/step - loss: 13.5816 - root_mean_squared_error: 3.6814\n",
      "Epoch 41/50\n",
      "\u001b[1m634/634\u001b[0m \u001b[32m━━━━━━━━━━━━━━━━━━━━\u001b[0m\u001b[37m\u001b[0m \u001b[1m1s\u001b[0m 867us/step - loss: 15.0675 - root_mean_squared_error: 3.8773\n",
      "Epoch 42/50\n",
      "\u001b[1m634/634\u001b[0m \u001b[32m━━━━━━━━━━━━━━━━━━━━\u001b[0m\u001b[37m\u001b[0m \u001b[1m1s\u001b[0m 894us/step - loss: 13.2394 - root_mean_squared_error: 3.6352\n",
      "Epoch 43/50\n",
      "\u001b[1m634/634\u001b[0m \u001b[32m━━━━━━━━━━━━━━━━━━━━\u001b[0m\u001b[37m\u001b[0m \u001b[1m1s\u001b[0m 899us/step - loss: 14.0346 - root_mean_squared_error: 3.7432\n",
      "Epoch 44/50\n",
      "\u001b[1m634/634\u001b[0m \u001b[32m━━━━━━━━━━━━━━━━━━━━\u001b[0m\u001b[37m\u001b[0m \u001b[1m1s\u001b[0m 951us/step - loss: 15.9320 - root_mean_squared_error: 3.9185\n",
      "Epoch 45/50\n",
      "\u001b[1m634/634\u001b[0m \u001b[32m━━━━━━━━━━━━━━━━━━━━\u001b[0m\u001b[37m\u001b[0m \u001b[1m1s\u001b[0m 971us/step - loss: 14.3256 - root_mean_squared_error: 3.7769\n",
      "Epoch 46/50\n",
      "\u001b[1m634/634\u001b[0m \u001b[32m━━━━━━━━━━━━━━━━━━━━\u001b[0m\u001b[37m\u001b[0m \u001b[1m1s\u001b[0m 940us/step - loss: 13.9304 - root_mean_squared_error: 3.7199\n",
      "Epoch 47/50\n",
      "\u001b[1m634/634\u001b[0m \u001b[32m━━━━━━━━━━━━━━━━━━━━\u001b[0m\u001b[37m\u001b[0m \u001b[1m1s\u001b[0m 933us/step - loss: 14.4525 - root_mean_squared_error: 3.7967\n",
      "Epoch 48/50\n",
      "\u001b[1m634/634\u001b[0m \u001b[32m━━━━━━━━━━━━━━━━━━━━\u001b[0m\u001b[37m\u001b[0m \u001b[1m1s\u001b[0m 893us/step - loss: 14.0227 - root_mean_squared_error: 3.7368\n",
      "Epoch 49/50\n",
      "\u001b[1m634/634\u001b[0m \u001b[32m━━━━━━━━━━━━━━━━━━━━\u001b[0m\u001b[37m\u001b[0m \u001b[1m1s\u001b[0m 951us/step - loss: 15.4839 - root_mean_squared_error: 3.9261\n",
      "Epoch 50/50\n",
      "\u001b[1m634/634\u001b[0m \u001b[32m━━━━━━━━━━━━━━━━━━━━\u001b[0m\u001b[37m\u001b[0m \u001b[1m1s\u001b[0m 881us/step - loss: 12.6251 - root_mean_squared_error: 3.5304\n",
      "\n",
      "SUCCESS: training experiment complete\n",
      "\n",
      "--------------------------------------------------------------------------------\n",
      "|                                  MODEL INFO                                  |\n",
      "--------------------------------------------------------------------------------\n",
      "Weight for feature[TRIP_MILES]: 2.283\n",
      "Bias: 4.994\n",
      "\n",
      "FARE = 2.283 * TRIP_MILES + 4.994\n",
      "\n"
     ]
    },
    {
     "data": {
      "application/vnd.plotly.v1+json": {
       "config": {
        "plotlyServerURL": "https://plot.ly"
       },
       "data": [
        {
         "hovertemplate": "TRIP_MILES=%{x}<br>FARE=%{y}<extra></extra>",
         "legendgroup": "",
         "marker": {
          "color": "#636efa",
          "symbol": "circle"
         },
         "mode": "markers",
         "name": "",
         "orientation": "v",
         "showlegend": false,
         "type": "scatter",
         "x": [
          1.28,
          1.9,
          18.4,
          0.9,
          17.62,
          1.88,
          12.87,
          5.32,
          17.04,
          8.26,
          3.24,
          17.37,
          4.8,
          1.1,
          10.88,
          1.12,
          13.26,
          9.2,
          0.9,
          9.38,
          1.59,
          0.96,
          13.68,
          17.7,
          21.3,
          0.6,
          1.3,
          2.96,
          9.05,
          8.5,
          0.88,
          13.94,
          19.93,
          1.92,
          9.5,
          1.75,
          2.03,
          17.51,
          0.7,
          12.9,
          17.01,
          2.16,
          0.7,
          2.71,
          2.47,
          1,
          0.75,
          18.34,
          3.17,
          3.08,
          1,
          4.15,
          6.09,
          1.79,
          1.07,
          16.96,
          13.1,
          18.8,
          1.17,
          1.55,
          3.08,
          0.9,
          17.3,
          13.81,
          18,
          6.02,
          0.73,
          5.55,
          17.62,
          19.62,
          16.8,
          10.52,
          16.29,
          6.14,
          1.86,
          1.37,
          2.91,
          2.1,
          3.6,
          7.36,
          3.55,
          17.53,
          9.81,
          13.38,
          12.42,
          18.3,
          2.1,
          5.94,
          18.09,
          1.6,
          10.4,
          0.73,
          1.8,
          1.57,
          15.3,
          1.2,
          1.2,
          19.9,
          21.44,
          17.13,
          2.7,
          9,
          11.43,
          11.62,
          11.27,
          16.84,
          14.2,
          8,
          15.1,
          14.86,
          2.87,
          9.4,
          0.69,
          11.17,
          2.05,
          0.8,
          1.23,
          30.4,
          17.5,
          0.9,
          2.33,
          2,
          0.88,
          14.88,
          4.29,
          2.1,
          10.12,
          2.5,
          1.32,
          2.79,
          0.87,
          3.09,
          2.7,
          17.6,
          1.97,
          17.5,
          16.07,
          3.33,
          11.2,
          1.31,
          0.72,
          3.8,
          2.1,
          1.05,
          21.85,
          16.6,
          21.94,
          5.5,
          18.2,
          10.4,
          10.37,
          0.5,
          0.82,
          1.56,
          1.39,
          6.1,
          12.1,
          19.1,
          12.2,
          14.2,
          10.34,
          8.85,
          17.02,
          14.5,
          14.67,
          19.54,
          2.75,
          9.18,
          11.6,
          20.5,
          11.86,
          18.7,
          0.82,
          10.19,
          6,
          18.41,
          0.81,
          0.89,
          9.1,
          17.1,
          14.3,
          1.3,
          1.14,
          18.69,
          0.5,
          18.19,
          17.61,
          14.2,
          0.8,
          17.2,
          0.82,
          1.42,
          1.63,
          5.8,
          10.56,
          6.62,
          2.54,
          1.3,
          17.9,
          2.79
         ],
         "xaxis": "x2",
         "y": [
          7.75,
          9.25,
          45.5,
          5.5,
          44.25,
          9.25,
          32.5,
          17,
          42.5,
          24,
          11.5,
          43.75,
          16.25,
          6.75,
          31,
          7.75,
          34,
          44.75,
          5.5,
          26,
          7.75,
          6.25,
          34.5,
          43.75,
          30.25,
          5.25,
          7.75,
          12.92,
          58.71,
          24.5,
          5.75,
          36,
          53,
          8.75,
          24.75,
          9.06,
          8.75,
          45.25,
          5.5,
          34.75,
          43.25,
          8.5,
          5,
          10,
          11.46,
          6,
          5.25,
          46.5,
          10.5,
          16.5,
          5.75,
          14,
          16.53,
          10,
          9,
          43.5,
          34,
          46,
          6.25,
          7.5,
          14,
          6.25,
          44.25,
          34.75,
          45.25,
          17.5,
          5.25,
          17.25,
          44.75,
          51.5,
          42.25,
          29.25,
          40.75,
          19.5,
          8.5,
          7,
          10.93,
          9.25,
          12.67,
          22.11,
          12.5,
          44,
          27.75,
          35.5,
          32.75,
          47,
          8.5,
          18.5,
          45,
          8.5,
          29.75,
          5,
          10.5,
          9,
          40.25,
          6.5,
          7.5,
          48.75,
          52,
          43,
          14.25,
          23.75,
          30,
          31,
          29.25,
          42.5,
          36.25,
          22.5,
          38,
          37,
          12.04,
          26.75,
          5.75,
          32.26,
          9.4,
          5.25,
          7.5,
          80.5,
          43.75,
          5.5,
          8.5,
          8.25,
          5.5,
          42,
          13.5,
          9.5,
          57,
          10.25,
          7.5,
          10,
          6,
          11.37,
          10,
          45.5,
          9.25,
          44.5,
          40,
          11.5,
          30.75,
          7.5,
          5.25,
          20.25,
          8.75,
          6.5,
          54.25,
          42.5,
          55,
          16.75,
          47.25,
          32.25,
          29,
          5,
          6,
          9,
          9,
          20.14,
          33.5,
          46.5,
          31.75,
          37.25,
          30,
          26.5,
          42.25,
          36.75,
          39.1,
          63.48,
          12.63,
          26.25,
          31.75,
          50.75,
          33.75,
          48.5,
          5,
          32.25,
          20.25,
          46.5,
          6,
          6,
          24,
          43.5,
          38,
          7,
          6.5,
          46.25,
          4.75,
          45.75,
          44.5,
          36.25,
          6.5,
          43.5,
          6.75,
          7.75,
          7.5,
          16.75,
          28.75,
          24,
          10,
          6.75,
          44,
          11.25
         ],
         "yaxis": "y2"
        },
        {
         "hovertemplate": "TRIP_MILES=%{x}<br>FARE_PREDICTED=%{y}<extra></extra>",
         "legendgroup": "",
         "line": {
          "color": "#ff0000",
          "dash": "solid",
          "width": 3
         },
         "marker": {
          "symbol": "circle"
         },
         "mode": "lines",
         "name": "",
         "orientation": "v",
         "showlegend": false,
         "type": "scatter",
         "x": [
          1.28,
          1.9,
          18.4,
          0.9,
          17.62,
          1.88,
          12.87,
          5.32,
          17.04,
          8.26,
          3.24,
          17.37,
          4.8,
          1.1,
          10.88,
          1.12,
          13.26,
          9.2,
          0.9,
          9.38,
          1.59,
          0.96,
          13.68,
          17.7,
          21.3,
          0.6,
          1.3,
          2.96,
          9.05,
          8.5,
          0.88,
          13.94,
          19.93,
          1.92,
          9.5,
          1.75,
          2.03,
          17.51,
          0.7,
          12.9,
          17.01,
          2.16,
          0.7,
          2.71,
          2.47,
          1,
          0.75,
          18.34,
          3.17,
          3.08,
          1,
          4.15,
          6.09,
          1.79,
          1.07,
          16.96,
          13.1,
          18.8,
          1.17,
          1.55,
          3.08,
          0.9,
          17.3,
          13.81,
          18,
          6.02,
          0.73,
          5.55,
          17.62,
          19.62,
          16.8,
          10.52,
          16.29,
          6.14,
          1.86,
          1.37,
          2.91,
          2.1,
          3.6,
          7.36,
          3.55,
          17.53,
          9.81,
          13.38,
          12.42,
          18.3,
          2.1,
          5.94,
          18.09,
          1.6,
          10.4,
          0.73,
          1.8,
          1.57,
          15.3,
          1.2,
          1.2,
          19.9,
          21.44,
          17.13,
          2.7,
          9,
          11.43,
          11.62,
          11.27,
          16.84,
          14.2,
          8,
          15.1,
          14.86,
          2.87,
          9.4,
          0.69,
          11.17,
          2.05,
          0.8,
          1.23,
          30.4,
          17.5,
          0.9,
          2.33,
          2,
          0.88,
          14.88,
          4.29,
          2.1,
          10.12,
          2.5,
          1.32,
          2.79,
          0.87,
          3.09,
          2.7,
          17.6,
          1.97,
          17.5,
          16.07,
          3.33,
          11.2,
          1.31,
          0.72,
          3.8,
          2.1,
          1.05,
          21.85,
          16.6,
          21.94,
          5.5,
          18.2,
          10.4,
          10.37,
          0.5,
          0.82,
          1.56,
          1.39,
          6.1,
          12.1,
          19.1,
          12.2,
          14.2,
          10.34,
          8.85,
          17.02,
          14.5,
          14.67,
          19.54,
          2.75,
          9.18,
          11.6,
          20.5,
          11.86,
          18.7,
          0.82,
          10.19,
          6,
          18.41,
          0.81,
          0.89,
          9.1,
          17.1,
          14.3,
          1.3,
          1.14,
          18.69,
          0.5,
          18.19,
          17.61,
          14.2,
          0.8,
          17.2,
          0.82,
          1.42,
          1.63,
          5.8,
          10.56,
          6.62,
          2.54,
          1.3,
          17.9,
          2.79
         ],
         "xaxis": "x2",
         "y": [
          7.916395988464355,
          9.33178813457489,
          46.99948234558105,
          7.0488975763320925,
          45.21882771015167,
          9.286130323410035,
          34.37509755849838,
          17.13927384376526,
          43.89475118637085,
          23.850972084999086,
          12.39086148262024,
          44.64810507059097,
          15.952170753479004,
          7.505475687980653,
          29.832145347595215,
          7.551133499145508,
          35.265424876213075,
          25.996889209747312,
          7.0488975763320925,
          26.40780951023102,
          8.624092061519622,
          7.18587100982666,
          36.22423891067505,
          45.4014589548111,
          53.61986496448517,
          6.364030408859253,
          7.962053799629212,
          11.751652126312255,
          25.654455626010897,
          24.398865818977356,
          7.003239765167237,
          36.81779045581818,
          50.492304899692535,
          9.377445945739746,
          26.681756377220154,
          8.98935455083847,
          9.628563907146454,
          44.967709748744966,
          6.592319464683532,
          34.44358427524567,
          43.82626446962357,
          9.925339679718018,
          6.592319464683532,
          11.180929486751555,
          10.633035752773285,
          7.277186632156372,
          6.706463992595673,
          46.86250891208649,
          12.231059143543243,
          12.025598993301392,
          7.277186632156372,
          14.468291890621186,
          18.897099573612213,
          9.080670173168183,
          7.436988971233368,
          43.71211994171143,
          34.90016238689422,
          47.91263856887817,
          7.6652780270576475,
          8.532776439189911,
          12.025598993301392,
          7.0488975763320925,
          44.488302731513976,
          36.52101468324661,
          46.086326122283936,
          18.737297234535216,
          6.660806181430816,
          17.6643386721611,
          45.21882771015167,
          49.78460882663727,
          43.34685745239258,
          29.010304746627806,
          42.18258326768875,
          19.011244101524355,
          9.240472512245178,
          8.121856138706207,
          11.637507598400116,
          9.78836624622345,
          13.212702083587647,
          21.79637058258057,
          13.098557555675507,
          45.013367559909824,
          27.38945245027542,
          35.53937174320221,
          33.34779680728913,
          46.77119328975677,
          9.78836624622345,
          18.554665989875794,
          46.29178627252579,
          8.646920967102051,
          28.73635787963867,
          6.660806181430816,
          9.10349907875061,
          8.578434250354768,
          39.92252161502838,
          7.733764743804931,
          7.733764743804931,
          50.42381818294525,
          53.93946964263916,
          44.1002113366127,
          11.15810058116913,
          25.540311098098755,
          31.087735154628753,
          31.521484360694885,
          30.722472665309905,
          43.43817307472229,
          37.411342000961305,
          23.257420539855957,
          39.46594350337982,
          38.91804976940155,
          11.546191976070403,
          26.453467321395873,
          6.569490559101105,
          30.494183609485628,
          9.674221718311308,
          6.820608520507813,
          7.802251460552215,
          74.39416904449463,
          44.94488084316254,
          7.0488975763320925,
          10.313431074619293,
          9.56007719039917,
          7.003239765167237,
          38.96370758056641,
          14.787896568775176,
          9.78836624622345,
          28.097148523330688,
          10.701522469520569,
          8.007711610794068,
          11.363560731410981,
          6.980410859584809,
          12.04842789888382,
          11.15810058116913,
          45.17316989898682,
          9.491590473651886,
          44.94488084316254,
          41.68034734487534,
          12.596321632862091,
          30.562670326232908,
          7.984882705211639,
          6.637977275848389,
          13.669280195236206,
          9.78836624622345,
          7.391331160068512,
          54.87545477151871,
          42.89027934074402,
          55.08091492176056,
          17.550194144248962,
          46.5429042339325,
          28.73635787963867,
          28.667871162891387,
          6.135741353034973,
          6.866266331672668,
          8.555605344772339,
          8.167513949871063,
          18.91992847919464,
          32.617271828651425,
          48.59750573635102,
          32.8455608844757,
          37.411342000961305,
          28.599384446144104,
          25.197877514362336,
          43.849093375205996,
          38.09620916843414,
          38.48430056333542,
          49.60197758197784,
          11.272245109081268,
          25.951231398582458,
          31.47582654953003,
          51.79355251789093,
          32.069378094673155,
          47.684349513053895,
          6.866266331672668,
          28.256950862407685,
          18.69163942337036,
          47.02231125116348,
          6.84343742609024,
          7.026068670749664,
          25.768600153923035,
          44.03172461986542,
          37.63963105678558,
          7.962053799629212,
          7.596791310310364,
          47.661520607471466,
          6.135741353034973,
          46.52007532835007,
          45.19599880456924,
          37.411342000961305,
          6.820608520507813,
          44.2600136756897,
          6.866266331672668,
          8.236000666618347,
          8.715407683849335,
          18.2350613117218,
          29.10162036895752,
          20.107031569480895,
          10.792838091850282,
          7.962053799629212,
          45.85803706645965,
          11.363560731410981
         ],
         "yaxis": "y2"
        },
        {
         "hovertemplate": "x=%{x}<br>y=%{y}<extra></extra>",
         "legendgroup": "",
         "line": {
          "color": "#ff0000",
          "dash": "solid",
          "width": 3
         },
         "marker": {
          "symbol": "circle"
         },
         "mode": "lines",
         "name": "",
         "orientation": "v",
         "showlegend": false,
         "type": "scatter",
         "x": [
          0,
          1,
          2,
          3,
          4,
          5,
          6,
          7,
          8,
          9,
          10,
          11,
          12,
          13,
          14,
          15,
          16,
          17,
          18,
          19,
          20,
          21,
          22,
          23,
          24,
          25,
          26,
          27,
          28,
          29,
          30,
          31,
          32,
          33,
          34,
          35,
          36,
          37,
          38,
          39,
          40,
          41,
          42,
          43,
          44,
          45,
          46,
          47,
          48,
          49
         ],
         "xaxis": "x",
         "y": [
          8.037385940551758,
          3.75107479095459,
          3.749497890472412,
          3.7515923976898193,
          3.752134084701538,
          3.7510945796966553,
          3.75026535987854,
          3.751495838165283,
          3.751211404800415,
          3.7508461475372314,
          3.750920295715332,
          3.750312328338623,
          3.749325752258301,
          3.748948097229004,
          3.75136661529541,
          3.749692678451538,
          3.7515740394592285,
          3.7507002353668213,
          3.7490603923797607,
          3.7501814365386963,
          3.7501296997070312,
          3.7475173473358154,
          3.7504522800445557,
          3.75054669380188,
          3.747627019882202,
          3.7511751651763916,
          3.751026153564453,
          3.7505688667297363,
          3.7510249614715576,
          3.751274824142456,
          3.7486300468444824,
          3.7489118576049805,
          3.750633716583252,
          3.750246047973633,
          3.750314712524414,
          3.751277208328247,
          3.7491774559020996,
          3.7503089904785156,
          3.750896692276001,
          3.7486941814422607,
          3.7489895820617676,
          3.751262903213501,
          3.7505452632904053,
          3.751195192337036,
          3.7504770755767822,
          3.7517154216766357,
          3.7491979598999023,
          3.7513062953948975,
          3.749455213546753,
          3.7513370513916016
         ],
         "yaxis": "y"
        }
       ],
       "layout": {
        "annotations": [
         {
          "font": {
           "size": 16
          },
          "showarrow": false,
          "text": "Loss Curve",
          "x": 0.225,
          "xanchor": "center",
          "xref": "paper",
          "y": 1,
          "yanchor": "bottom",
          "yref": "paper"
         },
         {
          "font": {
           "size": 16
          },
          "showarrow": false,
          "text": "Model Plot",
          "x": 0.775,
          "xanchor": "center",
          "xref": "paper",
          "y": 1,
          "yanchor": "bottom",
          "yref": "paper"
         }
        ],
        "autosize": true,
        "template": {
         "data": {
          "bar": [
           {
            "error_x": {
             "color": "#2a3f5f"
            },
            "error_y": {
             "color": "#2a3f5f"
            },
            "marker": {
             "line": {
              "color": "#E5ECF6",
              "width": 0.5
             },
             "pattern": {
              "fillmode": "overlay",
              "size": 10,
              "solidity": 0.2
             }
            },
            "type": "bar"
           }
          ],
          "barpolar": [
           {
            "marker": {
             "line": {
              "color": "#E5ECF6",
              "width": 0.5
             },
             "pattern": {
              "fillmode": "overlay",
              "size": 10,
              "solidity": 0.2
             }
            },
            "type": "barpolar"
           }
          ],
          "carpet": [
           {
            "aaxis": {
             "endlinecolor": "#2a3f5f",
             "gridcolor": "white",
             "linecolor": "white",
             "minorgridcolor": "white",
             "startlinecolor": "#2a3f5f"
            },
            "baxis": {
             "endlinecolor": "#2a3f5f",
             "gridcolor": "white",
             "linecolor": "white",
             "minorgridcolor": "white",
             "startlinecolor": "#2a3f5f"
            },
            "type": "carpet"
           }
          ],
          "choropleth": [
           {
            "colorbar": {
             "outlinewidth": 0,
             "ticks": ""
            },
            "type": "choropleth"
           }
          ],
          "contour": [
           {
            "colorbar": {
             "outlinewidth": 0,
             "ticks": ""
            },
            "colorscale": [
             [
              0,
              "#0d0887"
             ],
             [
              0.1111111111111111,
              "#46039f"
             ],
             [
              0.2222222222222222,
              "#7201a8"
             ],
             [
              0.3333333333333333,
              "#9c179e"
             ],
             [
              0.4444444444444444,
              "#bd3786"
             ],
             [
              0.5555555555555556,
              "#d8576b"
             ],
             [
              0.6666666666666666,
              "#ed7953"
             ],
             [
              0.7777777777777778,
              "#fb9f3a"
             ],
             [
              0.8888888888888888,
              "#fdca26"
             ],
             [
              1,
              "#f0f921"
             ]
            ],
            "type": "contour"
           }
          ],
          "contourcarpet": [
           {
            "colorbar": {
             "outlinewidth": 0,
             "ticks": ""
            },
            "type": "contourcarpet"
           }
          ],
          "heatmap": [
           {
            "colorbar": {
             "outlinewidth": 0,
             "ticks": ""
            },
            "colorscale": [
             [
              0,
              "#0d0887"
             ],
             [
              0.1111111111111111,
              "#46039f"
             ],
             [
              0.2222222222222222,
              "#7201a8"
             ],
             [
              0.3333333333333333,
              "#9c179e"
             ],
             [
              0.4444444444444444,
              "#bd3786"
             ],
             [
              0.5555555555555556,
              "#d8576b"
             ],
             [
              0.6666666666666666,
              "#ed7953"
             ],
             [
              0.7777777777777778,
              "#fb9f3a"
             ],
             [
              0.8888888888888888,
              "#fdca26"
             ],
             [
              1,
              "#f0f921"
             ]
            ],
            "type": "heatmap"
           }
          ],
          "heatmapgl": [
           {
            "colorbar": {
             "outlinewidth": 0,
             "ticks": ""
            },
            "colorscale": [
             [
              0,
              "#0d0887"
             ],
             [
              0.1111111111111111,
              "#46039f"
             ],
             [
              0.2222222222222222,
              "#7201a8"
             ],
             [
              0.3333333333333333,
              "#9c179e"
             ],
             [
              0.4444444444444444,
              "#bd3786"
             ],
             [
              0.5555555555555556,
              "#d8576b"
             ],
             [
              0.6666666666666666,
              "#ed7953"
             ],
             [
              0.7777777777777778,
              "#fb9f3a"
             ],
             [
              0.8888888888888888,
              "#fdca26"
             ],
             [
              1,
              "#f0f921"
             ]
            ],
            "type": "heatmapgl"
           }
          ],
          "histogram": [
           {
            "marker": {
             "pattern": {
              "fillmode": "overlay",
              "size": 10,
              "solidity": 0.2
             }
            },
            "type": "histogram"
           }
          ],
          "histogram2d": [
           {
            "colorbar": {
             "outlinewidth": 0,
             "ticks": ""
            },
            "colorscale": [
             [
              0,
              "#0d0887"
             ],
             [
              0.1111111111111111,
              "#46039f"
             ],
             [
              0.2222222222222222,
              "#7201a8"
             ],
             [
              0.3333333333333333,
              "#9c179e"
             ],
             [
              0.4444444444444444,
              "#bd3786"
             ],
             [
              0.5555555555555556,
              "#d8576b"
             ],
             [
              0.6666666666666666,
              "#ed7953"
             ],
             [
              0.7777777777777778,
              "#fb9f3a"
             ],
             [
              0.8888888888888888,
              "#fdca26"
             ],
             [
              1,
              "#f0f921"
             ]
            ],
            "type": "histogram2d"
           }
          ],
          "histogram2dcontour": [
           {
            "colorbar": {
             "outlinewidth": 0,
             "ticks": ""
            },
            "colorscale": [
             [
              0,
              "#0d0887"
             ],
             [
              0.1111111111111111,
              "#46039f"
             ],
             [
              0.2222222222222222,
              "#7201a8"
             ],
             [
              0.3333333333333333,
              "#9c179e"
             ],
             [
              0.4444444444444444,
              "#bd3786"
             ],
             [
              0.5555555555555556,
              "#d8576b"
             ],
             [
              0.6666666666666666,
              "#ed7953"
             ],
             [
              0.7777777777777778,
              "#fb9f3a"
             ],
             [
              0.8888888888888888,
              "#fdca26"
             ],
             [
              1,
              "#f0f921"
             ]
            ],
            "type": "histogram2dcontour"
           }
          ],
          "mesh3d": [
           {
            "colorbar": {
             "outlinewidth": 0,
             "ticks": ""
            },
            "type": "mesh3d"
           }
          ],
          "parcoords": [
           {
            "line": {
             "colorbar": {
              "outlinewidth": 0,
              "ticks": ""
             }
            },
            "type": "parcoords"
           }
          ],
          "pie": [
           {
            "automargin": true,
            "type": "pie"
           }
          ],
          "scatter": [
           {
            "fillpattern": {
             "fillmode": "overlay",
             "size": 10,
             "solidity": 0.2
            },
            "type": "scatter"
           }
          ],
          "scatter3d": [
           {
            "line": {
             "colorbar": {
              "outlinewidth": 0,
              "ticks": ""
             }
            },
            "marker": {
             "colorbar": {
              "outlinewidth": 0,
              "ticks": ""
             }
            },
            "type": "scatter3d"
           }
          ],
          "scattercarpet": [
           {
            "marker": {
             "colorbar": {
              "outlinewidth": 0,
              "ticks": ""
             }
            },
            "type": "scattercarpet"
           }
          ],
          "scattergeo": [
           {
            "marker": {
             "colorbar": {
              "outlinewidth": 0,
              "ticks": ""
             }
            },
            "type": "scattergeo"
           }
          ],
          "scattergl": [
           {
            "marker": {
             "colorbar": {
              "outlinewidth": 0,
              "ticks": ""
             }
            },
            "type": "scattergl"
           }
          ],
          "scattermapbox": [
           {
            "marker": {
             "colorbar": {
              "outlinewidth": 0,
              "ticks": ""
             }
            },
            "type": "scattermapbox"
           }
          ],
          "scatterpolar": [
           {
            "marker": {
             "colorbar": {
              "outlinewidth": 0,
              "ticks": ""
             }
            },
            "type": "scatterpolar"
           }
          ],
          "scatterpolargl": [
           {
            "marker": {
             "colorbar": {
              "outlinewidth": 0,
              "ticks": ""
             }
            },
            "type": "scatterpolargl"
           }
          ],
          "scatterternary": [
           {
            "marker": {
             "colorbar": {
              "outlinewidth": 0,
              "ticks": ""
             }
            },
            "type": "scatterternary"
           }
          ],
          "surface": [
           {
            "colorbar": {
             "outlinewidth": 0,
             "ticks": ""
            },
            "colorscale": [
             [
              0,
              "#0d0887"
             ],
             [
              0.1111111111111111,
              "#46039f"
             ],
             [
              0.2222222222222222,
              "#7201a8"
             ],
             [
              0.3333333333333333,
              "#9c179e"
             ],
             [
              0.4444444444444444,
              "#bd3786"
             ],
             [
              0.5555555555555556,
              "#d8576b"
             ],
             [
              0.6666666666666666,
              "#ed7953"
             ],
             [
              0.7777777777777778,
              "#fb9f3a"
             ],
             [
              0.8888888888888888,
              "#fdca26"
             ],
             [
              1,
              "#f0f921"
             ]
            ],
            "type": "surface"
           }
          ],
          "table": [
           {
            "cells": {
             "fill": {
              "color": "#EBF0F8"
             },
             "line": {
              "color": "white"
             }
            },
            "header": {
             "fill": {
              "color": "#C8D4E3"
             },
             "line": {
              "color": "white"
             }
            },
            "type": "table"
           }
          ]
         },
         "layout": {
          "annotationdefaults": {
           "arrowcolor": "#2a3f5f",
           "arrowhead": 0,
           "arrowwidth": 1
          },
          "autotypenumbers": "strict",
          "coloraxis": {
           "colorbar": {
            "outlinewidth": 0,
            "ticks": ""
           }
          },
          "colorscale": {
           "diverging": [
            [
             0,
             "#8e0152"
            ],
            [
             0.1,
             "#c51b7d"
            ],
            [
             0.2,
             "#de77ae"
            ],
            [
             0.3,
             "#f1b6da"
            ],
            [
             0.4,
             "#fde0ef"
            ],
            [
             0.5,
             "#f7f7f7"
            ],
            [
             0.6,
             "#e6f5d0"
            ],
            [
             0.7,
             "#b8e186"
            ],
            [
             0.8,
             "#7fbc41"
            ],
            [
             0.9,
             "#4d9221"
            ],
            [
             1,
             "#276419"
            ]
           ],
           "sequential": [
            [
             0,
             "#0d0887"
            ],
            [
             0.1111111111111111,
             "#46039f"
            ],
            [
             0.2222222222222222,
             "#7201a8"
            ],
            [
             0.3333333333333333,
             "#9c179e"
            ],
            [
             0.4444444444444444,
             "#bd3786"
            ],
            [
             0.5555555555555556,
             "#d8576b"
            ],
            [
             0.6666666666666666,
             "#ed7953"
            ],
            [
             0.7777777777777778,
             "#fb9f3a"
            ],
            [
             0.8888888888888888,
             "#fdca26"
            ],
            [
             1,
             "#f0f921"
            ]
           ],
           "sequentialminus": [
            [
             0,
             "#0d0887"
            ],
            [
             0.1111111111111111,
             "#46039f"
            ],
            [
             0.2222222222222222,
             "#7201a8"
            ],
            [
             0.3333333333333333,
             "#9c179e"
            ],
            [
             0.4444444444444444,
             "#bd3786"
            ],
            [
             0.5555555555555556,
             "#d8576b"
            ],
            [
             0.6666666666666666,
             "#ed7953"
            ],
            [
             0.7777777777777778,
             "#fb9f3a"
            ],
            [
             0.8888888888888888,
             "#fdca26"
            ],
            [
             1,
             "#f0f921"
            ]
           ]
          },
          "colorway": [
           "#636efa",
           "#EF553B",
           "#00cc96",
           "#ab63fa",
           "#FFA15A",
           "#19d3f3",
           "#FF6692",
           "#B6E880",
           "#FF97FF",
           "#FECB52"
          ],
          "font": {
           "color": "#2a3f5f"
          },
          "geo": {
           "bgcolor": "white",
           "lakecolor": "white",
           "landcolor": "#E5ECF6",
           "showlakes": true,
           "showland": true,
           "subunitcolor": "white"
          },
          "hoverlabel": {
           "align": "left"
          },
          "hovermode": "closest",
          "mapbox": {
           "style": "light"
          },
          "paper_bgcolor": "white",
          "plot_bgcolor": "#E5ECF6",
          "polar": {
           "angularaxis": {
            "gridcolor": "white",
            "linecolor": "white",
            "ticks": ""
           },
           "bgcolor": "#E5ECF6",
           "radialaxis": {
            "gridcolor": "white",
            "linecolor": "white",
            "ticks": ""
           }
          },
          "scene": {
           "xaxis": {
            "backgroundcolor": "#E5ECF6",
            "gridcolor": "white",
            "gridwidth": 2,
            "linecolor": "white",
            "showbackground": true,
            "ticks": "",
            "zerolinecolor": "white"
           },
           "yaxis": {
            "backgroundcolor": "#E5ECF6",
            "gridcolor": "white",
            "gridwidth": 2,
            "linecolor": "white",
            "showbackground": true,
            "ticks": "",
            "zerolinecolor": "white"
           },
           "zaxis": {
            "backgroundcolor": "#E5ECF6",
            "gridcolor": "white",
            "gridwidth": 2,
            "linecolor": "white",
            "showbackground": true,
            "ticks": "",
            "zerolinecolor": "white"
           }
          },
          "shapedefaults": {
           "line": {
            "color": "#2a3f5f"
           }
          },
          "ternary": {
           "aaxis": {
            "gridcolor": "white",
            "linecolor": "white",
            "ticks": ""
           },
           "baxis": {
            "gridcolor": "white",
            "linecolor": "white",
            "ticks": ""
           },
           "bgcolor": "#E5ECF6",
           "caxis": {
            "gridcolor": "white",
            "linecolor": "white",
            "ticks": ""
           }
          },
          "title": {
           "x": 0.05
          },
          "xaxis": {
           "automargin": true,
           "gridcolor": "white",
           "linecolor": "white",
           "ticks": "",
           "title": {
            "standoff": 15
           },
           "zerolinecolor": "white",
           "zerolinewidth": 2
          },
          "yaxis": {
           "automargin": true,
           "gridcolor": "white",
           "linecolor": "white",
           "ticks": "",
           "title": {
            "standoff": 15
           },
           "zerolinecolor": "white",
           "zerolinewidth": 2
          }
         }
        },
        "xaxis": {
         "anchor": "y",
         "autorange": true,
         "domain": [
          0,
          0.45
         ],
         "range": [
          0,
          49
         ],
         "title": {
          "text": "Epoch"
         },
         "type": "linear"
        },
        "xaxis2": {
         "anchor": "y2",
         "autorange": true,
         "domain": [
          0.55,
          1
         ],
         "range": [
          -1.4945738145902763,
          32.394573814590274
         ],
         "title": {
          "text": "TRIP_MILES"
         },
         "type": "linear"
        },
        "yaxis": {
         "anchor": "x",
         "domain": [
          0,
          1
         ],
         "range": [
          2.9980138778686527,
          8.037385940551758
         ],
         "title": {
          "text": "Root Mean Squared Error"
         },
         "type": "linear"
        },
        "yaxis2": {
         "anchor": "x2",
         "autorange": true,
         "domain": [
          0,
          1
         ],
         "range": [
          -1.50121359223301,
          86.75121359223301
         ],
         "title": {
          "text": "FARE"
         },
         "type": "linear"
        }
       }
      },
      "image/png": "[encoded data removed]",
      "text/html": [
       "<div>                            <div id=\"9f12e29e-e7cf-405b-a656-338728d3b5a7\" class=\"plotly-graph-div\" style=\"height:525px; width:100%;\"></div>            <script type=\"text/javascript\">                require([\"plotly\"], function(Plotly) {                    window.PLOTLYENV=window.PLOTLYENV || {};                                    if (document.getElementById(\"9f12e29e-e7cf-405b-a656-338728d3b5a7\")) {                    Plotly.newPlot(                        \"9f12e29e-e7cf-405b-a656-338728d3b5a7\",                        [{\"hovertemplate\":\"TRIP_MILES=%{x}\\u003cbr\\u003eFARE=%{y}\\u003cextra\\u003e\\u003c\\u002fextra\\u003e\",\"legendgroup\":\"\",\"marker\":{\"color\":\"#636efa\",\"symbol\":\"circle\"},\"mode\":\"markers\",\"name\":\"\",\"orientation\":\"v\",\"showlegend\":false,\"x\":[1.28,1.9,18.4,0.9,17.62,1.88,12.87,5.32,17.04,8.26,3.24,17.37,4.8,1.1,10.88,1.12,13.26,9.2,0.9,9.38,1.59,0.96,13.68,17.7,21.3,0.6,1.3,2.96,9.05,8.5,0.88,13.94,19.93,1.92,9.5,1.75,2.03,17.51,0.7,12.9,17.01,2.16,0.7,2.71,2.47,1.0,0.75,18.34,3.17,3.08,1.0,4.15,6.09,1.79,1.07,16.96,13.1,18.8,1.17,1.55,3.08,0.9,17.3,13.81,18.0,6.02,0.73,5.55,17.62,19.62,16.8,10.52,16.29,6.14,1.86,1.37,2.91,2.1,3.6,7.36,3.55,17.53,9.81,13.38,12.42,18.3,2.1,5.94,18.09,1.6,10.4,0.73,1.8,1.57,15.3,1.2,1.2,19.9,21.44,17.13,2.7,9.0,11.43,11.62,11.27,16.84,14.2,8.0,15.1,14.86,2.87,9.4,0.69,11.17,2.05,0.8,1.23,30.4,17.5,0.9,2.33,2.0,0.88,14.88,4.29,2.1,10.12,2.5,1.32,2.79,0.87,3.09,2.7,17.6,1.97,17.5,16.07,3.33,11.2,1.31,0.72,3.8,2.1,1.05,21.85,16.6,21.94,5.5,18.2,10.4,10.37,0.5,0.82,1.56,1.39,6.1,12.1,19.1,12.2,14.2,10.34,8.85,17.02,14.5,14.67,19.54,2.75,9.18,11.6,20.5,11.86,18.7,0.82,10.19,6.0,18.41,0.81,0.89,9.1,17.1,14.3,1.3,1.14,18.69,0.5,18.19,17.61,14.2,0.8,17.2,0.82,1.42,1.63,5.8,10.56,6.62,2.54,1.3,17.9,2.79],\"xaxis\":\"x2\",\"y\":[7.75,9.25,45.5,5.5,44.25,9.25,32.5,17.0,42.5,24.0,11.5,43.75,16.25,6.75,31.0,7.75,34.0,44.75,5.5,26.0,7.75,6.25,34.5,43.75,30.25,5.25,7.75,12.92,58.71,24.5,5.75,36.0,53.0,8.75,24.75,9.06,8.75,45.25,5.5,34.75,43.25,8.5,5.0,10.0,11.46,6.0,5.25,46.5,10.5,16.5,5.75,14.0,16.53,10.0,9.0,43.5,34.0,46.0,6.25,7.5,14.0,6.25,44.25,34.75,45.25,17.5,5.25,17.25,44.75,51.5,42.25,29.25,40.75,19.5,8.5,7.0,10.93,9.25,12.67,22.11,12.5,44.0,27.75,35.5,32.75,47.0,8.5,18.5,45.0,8.5,29.75,5.0,10.5,9.0,40.25,6.5,7.5,48.75,52.0,43.0,14.25,23.75,30.0,31.0,29.25,42.5,36.25,22.5,38.0,37.0,12.04,26.75,5.75,32.26,9.4,5.25,7.5,80.5,43.75,5.5,8.5,8.25,5.5,42.0,13.5,9.5,57.0,10.25,7.5,10.0,6.0,11.37,10.0,45.5,9.25,44.5,40.0,11.5,30.75,7.5,5.25,20.25,8.75,6.5,54.25,42.5,55.0,16.75,47.25,32.25,29.0,5.0,6.0,9.0,9.0,20.14,33.5,46.5,31.75,37.25,30.0,26.5,42.25,36.75,39.1,63.48,12.63,26.25,31.75,50.75,33.75,48.5,5.0,32.25,20.25,46.5,6.0,6.0,24.0,43.5,38.0,7.0,6.5,46.25,4.75,45.75,44.5,36.25,6.5,43.5,6.75,7.75,7.5,16.75,28.75,24.0,10.0,6.75,44.0,11.25],\"yaxis\":\"y2\",\"type\":\"scatter\"},{\"hovertemplate\":\"TRIP_MILES=%{x}\\u003cbr\\u003eFARE_PREDICTED=%{y}\\u003cextra\\u003e\\u003c\\u002fextra\\u003e\",\"legendgroup\":\"\",\"line\":{\"color\":\"#ff0000\",\"dash\":\"solid\",\"width\":3},\"marker\":{\"symbol\":\"circle\"},\"mode\":\"lines\",\"name\":\"\",\"orientation\":\"v\",\"showlegend\":false,\"x\":[1.28,1.9,18.4,0.9,17.62,1.88,12.87,5.32,17.04,8.26,3.24,17.37,4.8,1.1,10.88,1.12,13.26,9.2,0.9,9.38,1.59,0.96,13.68,17.7,21.3,0.6,1.3,2.96,9.05,8.5,0.88,13.94,19.93,1.92,9.5,1.75,2.03,17.51,0.7,12.9,17.01,2.16,0.7,2.71,2.47,1.0,0.75,18.34,3.17,3.08,1.0,4.15,6.09,1.79,1.07,16.96,13.1,18.8,1.17,1.55,3.08,0.9,17.3,13.81,18.0,6.02,0.73,5.55,17.62,19.62,16.8,10.52,16.29,6.14,1.86,1.37,2.91,2.1,3.6,7.36,3.55,17.53,9.81,13.38,12.42,18.3,2.1,5.94,18.09,1.6,10.4,0.73,1.8,1.57,15.3,1.2,1.2,19.9,21.44,17.13,2.7,9.0,11.43,11.62,11.27,16.84,14.2,8.0,15.1,14.86,2.87,9.4,0.69,11.17,2.05,0.8,1.23,30.4,17.5,0.9,2.33,2.0,0.88,14.88,4.29,2.1,10.12,2.5,1.32,2.79,0.87,3.09,2.7,17.6,1.97,17.5,16.07,3.33,11.2,1.31,0.72,3.8,2.1,1.05,21.85,16.6,21.94,5.5,18.2,10.4,10.37,0.5,0.82,1.56,1.39,6.1,12.1,19.1,12.2,14.2,10.34,8.85,17.02,14.5,14.67,19.54,2.75,9.18,11.6,20.5,11.86,18.7,0.82,10.19,6.0,18.41,0.81,0.89,9.1,17.1,14.3,1.3,1.14,18.69,0.5,18.19,17.61,14.2,0.8,17.2,0.82,1.42,1.63,5.8,10.56,6.62,2.54,1.3,17.9,2.79],\"xaxis\":\"x2\",\"y\":[7.916395988464355,9.33178813457489,46.99948234558105,7.0488975763320925,45.21882771015167,9.286130323410035,34.37509755849838,17.13927384376526,43.89475118637085,23.850972084999086,12.39086148262024,44.64810507059097,15.952170753479004,7.505475687980653,29.832145347595215,7.551133499145508,35.265424876213075,25.996889209747312,7.0488975763320925,26.40780951023102,8.624092061519622,7.18587100982666,36.22423891067505,45.4014589548111,53.61986496448517,6.364030408859253,7.962053799629212,11.751652126312255,25.654455626010897,24.398865818977356,7.003239765167237,36.81779045581818,50.492304899692535,9.377445945739746,26.681756377220154,8.98935455083847,9.628563907146454,44.967709748744966,6.592319464683532,34.44358427524567,43.82626446962357,9.925339679718018,6.592319464683532,11.180929486751555,10.633035752773285,7.277186632156372,6.706463992595673,46.86250891208649,12.231059143543243,12.025598993301392,7.277186632156372,14.468291890621186,18.897099573612213,9.080670173168183,7.436988971233368,43.71211994171143,34.90016238689422,47.91263856887817,7.6652780270576475,8.532776439189911,12.025598993301392,7.0488975763320925,44.488302731513976,36.52101468324661,46.086326122283936,18.737297234535216,6.660806181430816,17.6643386721611,45.21882771015167,49.78460882663727,43.34685745239258,29.010304746627806,42.18258326768875,19.011244101524355,9.240472512245178,8.121856138706207,11.637507598400116,9.78836624622345,13.212702083587647,21.79637058258057,13.098557555675507,45.013367559909824,27.38945245027542,35.53937174320221,33.34779680728913,46.77119328975677,9.78836624622345,18.554665989875794,46.29178627252579,8.646920967102051,28.73635787963867,6.660806181430816,9.10349907875061,8.578434250354768,39.92252161502838,7.733764743804931,7.733764743804931,50.42381818294525,53.93946964263916,44.1002113366127,11.15810058116913,25.540311098098755,31.087735154628753,31.521484360694885,30.722472665309905,43.43817307472229,37.411342000961305,23.257420539855957,39.46594350337982,38.91804976940155,11.546191976070403,26.453467321395873,6.569490559101105,30.494183609485628,9.674221718311308,6.820608520507813,7.802251460552215,74.39416904449463,44.94488084316254,7.0488975763320925,10.313431074619293,9.56007719039917,7.003239765167237,38.96370758056641,14.787896568775176,9.78836624622345,28.097148523330688,10.701522469520569,8.007711610794068,11.363560731410981,6.980410859584809,12.04842789888382,11.15810058116913,45.17316989898682,9.491590473651886,44.94488084316254,41.68034734487534,12.596321632862091,30.562670326232908,7.984882705211639,6.637977275848389,13.669280195236206,9.78836624622345,7.391331160068512,54.87545477151871,42.89027934074402,55.08091492176056,17.550194144248962,46.5429042339325,28.73635787963867,28.667871162891387,6.135741353034973,6.866266331672668,8.555605344772339,8.167513949871063,18.91992847919464,32.617271828651425,48.59750573635102,32.8455608844757,37.411342000961305,28.599384446144104,25.197877514362336,43.849093375205996,38.09620916843414,38.48430056333542,49.60197758197784,11.272245109081268,25.951231398582458,31.47582654953003,51.79355251789093,32.069378094673155,47.684349513053895,6.866266331672668,28.256950862407685,18.69163942337036,47.02231125116348,6.84343742609024,7.026068670749664,25.768600153923035,44.03172461986542,37.63963105678558,7.962053799629212,7.596791310310364,47.661520607471466,6.135741353034973,46.52007532835007,45.19599880456924,37.411342000961305,6.820608520507813,44.2600136756897,6.866266331672668,8.236000666618347,8.715407683849335,18.2350613117218,29.10162036895752,20.107031569480895,10.792838091850282,7.962053799629212,45.85803706645965,11.363560731410981],\"yaxis\":\"y2\",\"type\":\"scatter\"},{\"hovertemplate\":\"x=%{x}\\u003cbr\\u003ey=%{y}\\u003cextra\\u003e\\u003c\\u002fextra\\u003e\",\"legendgroup\":\"\",\"line\":{\"color\":\"#ff0000\",\"dash\":\"solid\",\"width\":3},\"marker\":{\"symbol\":\"circle\"},\"mode\":\"lines\",\"name\":\"\",\"orientation\":\"v\",\"showlegend\":false,\"x\":[0,1,2,3,4,5,6,7,8,9,10,11,12,13,14,15,16,17,18,19,20,21,22,23,24,25,26,27,28,29,30,31,32,33,34,35,36,37,38,39,40,41,42,43,44,45,46,47,48,49],\"xaxis\":\"x\",\"y\":[8.037385940551758,3.75107479095459,3.749497890472412,3.7515923976898193,3.752134084701538,3.7510945796966553,3.75026535987854,3.751495838165283,3.751211404800415,3.7508461475372314,3.750920295715332,3.750312328338623,3.749325752258301,3.748948097229004,3.75136661529541,3.749692678451538,3.7515740394592285,3.7507002353668213,3.7490603923797607,3.7501814365386963,3.7501296997070312,3.7475173473358154,3.7504522800445557,3.75054669380188,3.747627019882202,3.7511751651763916,3.751026153564453,3.7505688667297363,3.7510249614715576,3.751274824142456,3.7486300468444824,3.7489118576049805,3.750633716583252,3.750246047973633,3.750314712524414,3.751277208328247,3.7491774559020996,3.7503089904785156,3.750896692276001,3.7486941814422607,3.7489895820617676,3.751262903213501,3.7505452632904053,3.751195192337036,3.7504770755767822,3.7517154216766357,3.7491979598999023,3.7513062953948975,3.749455213546753,3.7513370513916016],\"yaxis\":\"y\",\"type\":\"scatter\"}],                        {\"template\":{\"data\":{\"histogram2dcontour\":[{\"type\":\"histogram2dcontour\",\"colorbar\":{\"outlinewidth\":0,\"ticks\":\"\"},\"colorscale\":[[0.0,\"#0d0887\"],[0.1111111111111111,\"#46039f\"],[0.2222222222222222,\"#7201a8\"],[0.3333333333333333,\"#9c179e\"],[0.4444444444444444,\"#bd3786\"],[0.5555555555555556,\"#d8576b\"],[0.6666666666666666,\"#ed7953\"],[0.7777777777777778,\"#fb9f3a\"],[0.8888888888888888,\"#fdca26\"],[1.0,\"#f0f921\"]]}],\"choropleth\":[{\"type\":\"choropleth\",\"colorbar\":{\"outlinewidth\":0,\"ticks\":\"\"}}],\"histogram2d\":[{\"type\":\"histogram2d\",\"colorbar\":{\"outlinewidth\":0,\"ticks\":\"\"},\"colorscale\":[[0.0,\"#0d0887\"],[0.1111111111111111,\"#46039f\"],[0.2222222222222222,\"#7201a8\"],[0.3333333333333333,\"#9c179e\"],[0.4444444444444444,\"#bd3786\"],[0.5555555555555556,\"#d8576b\"],[0.6666666666666666,\"#ed7953\"],[0.7777777777777778,\"#fb9f3a\"],[0.8888888888888888,\"#fdca26\"],[1.0,\"#f0f921\"]]}],\"heatmap\":[{\"type\":\"heatmap\",\"colorbar\":{\"outlinewidth\":0,\"ticks\":\"\"},\"colorscale\":[[0.0,\"#0d0887\"],[0.1111111111111111,\"#46039f\"],[0.2222222222222222,\"#7201a8\"],[0.3333333333333333,\"#9c179e\"],[0.4444444444444444,\"#bd3786\"],[0.5555555555555556,\"#d8576b\"],[0.6666666666666666,\"#ed7953\"],[0.7777777777777778,\"#fb9f3a\"],[0.8888888888888888,\"#fdca26\"],[1.0,\"#f0f921\"]]}],\"heatmapgl\":[{\"type\":\"heatmapgl\",\"colorbar\":{\"outlinewidth\":0,\"ticks\":\"\"},\"colorscale\":[[0.0,\"#0d0887\"],[0.1111111111111111,\"#46039f\"],[0.2222222222222222,\"#7201a8\"],[0.3333333333333333,\"#9c179e\"],[0.4444444444444444,\"#bd3786\"],[0.5555555555555556,\"#d8576b\"],[0.6666666666666666,\"#ed7953\"],[0.7777777777777778,\"#fb9f3a\"],[0.8888888888888888,\"#fdca26\"],[1.0,\"#f0f921\"]]}],\"contourcarpet\":[{\"type\":\"contourcarpet\",\"colorbar\":{\"outlinewidth\":0,\"ticks\":\"\"}}],\"contour\":[{\"type\":\"contour\",\"colorbar\":{\"outlinewidth\":0,\"ticks\":\"\"},\"colorscale\":[[0.0,\"#0d0887\"],[0.1111111111111111,\"#46039f\"],[0.2222222222222222,\"#7201a8\"],[0.3333333333333333,\"#9c179e\"],[0.4444444444444444,\"#bd3786\"],[0.5555555555555556,\"#d8576b\"],[0.6666666666666666,\"#ed7953\"],[0.7777777777777778,\"#fb9f3a\"],[0.8888888888888888,\"#fdca26\"],[1.0,\"#f0f921\"]]}],\"surface\":[{\"type\":\"surface\",\"colorbar\":{\"outlinewidth\":0,\"ticks\":\"\"},\"colorscale\":[[0.0,\"#0d0887\"],[0.1111111111111111,\"#46039f\"],[0.2222222222222222,\"#7201a8\"],[0.3333333333333333,\"#9c179e\"],[0.4444444444444444,\"#bd3786\"],[0.5555555555555556,\"#d8576b\"],[0.6666666666666666,\"#ed7953\"],[0.7777777777777778,\"#fb9f3a\"],[0.8888888888888888,\"#fdca26\"],[1.0,\"#f0f921\"]]}],\"mesh3d\":[{\"type\":\"mesh3d\",\"colorbar\":{\"outlinewidth\":0,\"ticks\":\"\"}}],\"scatter\":[{\"fillpattern\":{\"fillmode\":\"overlay\",\"size\":10,\"solidity\":0.2},\"type\":\"scatter\"}],\"parcoords\":[{\"type\":\"parcoords\",\"line\":{\"colorbar\":{\"outlinewidth\":0,\"ticks\":\"\"}}}],\"scatterpolargl\":[{\"type\":\"scatterpolargl\",\"marker\":{\"colorbar\":{\"outlinewidth\":0,\"ticks\":\"\"}}}],\"bar\":[{\"error_x\":{\"color\":\"#2a3f5f\"},\"error_y\":{\"color\":\"#2a3f5f\"},\"marker\":{\"line\":{\"color\":\"#E5ECF6\",\"width\":0.5},\"pattern\":{\"fillmode\":\"overlay\",\"size\":10,\"solidity\":0.2}},\"type\":\"bar\"}],\"scattergeo\":[{\"type\":\"scattergeo\",\"marker\":{\"colorbar\":{\"outlinewidth\":0,\"ticks\":\"\"}}}],\"scatterpolar\":[{\"type\":\"scatterpolar\",\"marker\":{\"colorbar\":{\"outlinewidth\":0,\"ticks\":\"\"}}}],\"histogram\":[{\"marker\":{\"pattern\":{\"fillmode\":\"overlay\",\"size\":10,\"solidity\":0.2}},\"type\":\"histogram\"}],\"scattergl\":[{\"type\":\"scattergl\",\"marker\":{\"colorbar\":{\"outlinewidth\":0,\"ticks\":\"\"}}}],\"scatter3d\":[{\"type\":\"scatter3d\",\"line\":{\"colorbar\":{\"outlinewidth\":0,\"ticks\":\"\"}},\"marker\":{\"colorbar\":{\"outlinewidth\":0,\"ticks\":\"\"}}}],\"scattermapbox\":[{\"type\":\"scattermapbox\",\"marker\":{\"colorbar\":{\"outlinewidth\":0,\"ticks\":\"\"}}}],\"scatterternary\":[{\"type\":\"scatterternary\",\"marker\":{\"colorbar\":{\"outlinewidth\":0,\"ticks\":\"\"}}}],\"scattercarpet\":[{\"type\":\"scattercarpet\",\"marker\":{\"colorbar\":{\"outlinewidth\":0,\"ticks\":\"\"}}}],\"carpet\":[{\"aaxis\":{\"endlinecolor\":\"#2a3f5f\",\"gridcolor\":\"white\",\"linecolor\":\"white\",\"minorgridcolor\":\"white\",\"startlinecolor\":\"#2a3f5f\"},\"baxis\":{\"endlinecolor\":\"#2a3f5f\",\"gridcolor\":\"white\",\"linecolor\":\"white\",\"minorgridcolor\":\"white\",\"startlinecolor\":\"#2a3f5f\"},\"type\":\"carpet\"}],\"table\":[{\"cells\":{\"fill\":{\"color\":\"#EBF0F8\"},\"line\":{\"color\":\"white\"}},\"header\":{\"fill\":{\"color\":\"#C8D4E3\"},\"line\":{\"color\":\"white\"}},\"type\":\"table\"}],\"barpolar\":[{\"marker\":{\"line\":{\"color\":\"#E5ECF6\",\"width\":0.5},\"pattern\":{\"fillmode\":\"overlay\",\"size\":10,\"solidity\":0.2}},\"type\":\"barpolar\"}],\"pie\":[{\"automargin\":true,\"type\":\"pie\"}]},\"layout\":{\"autotypenumbers\":\"strict\",\"colorway\":[\"#636efa\",\"#EF553B\",\"#00cc96\",\"#ab63fa\",\"#FFA15A\",\"#19d3f3\",\"#FF6692\",\"#B6E880\",\"#FF97FF\",\"#FECB52\"],\"font\":{\"color\":\"#2a3f5f\"},\"hovermode\":\"closest\",\"hoverlabel\":{\"align\":\"left\"},\"paper_bgcolor\":\"white\",\"plot_bgcolor\":\"#E5ECF6\",\"polar\":{\"bgcolor\":\"#E5ECF6\",\"angularaxis\":{\"gridcolor\":\"white\",\"linecolor\":\"white\",\"ticks\":\"\"},\"radialaxis\":{\"gridcolor\":\"white\",\"linecolor\":\"white\",\"ticks\":\"\"}},\"ternary\":{\"bgcolor\":\"#E5ECF6\",\"aaxis\":{\"gridcolor\":\"white\",\"linecolor\":\"white\",\"ticks\":\"\"},\"baxis\":{\"gridcolor\":\"white\",\"linecolor\":\"white\",\"ticks\":\"\"},\"caxis\":{\"gridcolor\":\"white\",\"linecolor\":\"white\",\"ticks\":\"\"}},\"coloraxis\":{\"colorbar\":{\"outlinewidth\":0,\"ticks\":\"\"}},\"colorscale\":{\"sequential\":[[0.0,\"#0d0887\"],[0.1111111111111111,\"#46039f\"],[0.2222222222222222,\"#7201a8\"],[0.3333333333333333,\"#9c179e\"],[0.4444444444444444,\"#bd3786\"],[0.5555555555555556,\"#d8576b\"],[0.6666666666666666,\"#ed7953\"],[0.7777777777777778,\"#fb9f3a\"],[0.8888888888888888,\"#fdca26\"],[1.0,\"#f0f921\"]],\"sequentialminus\":[[0.0,\"#0d0887\"],[0.1111111111111111,\"#46039f\"],[0.2222222222222222,\"#7201a8\"],[0.3333333333333333,\"#9c179e\"],[0.4444444444444444,\"#bd3786\"],[0.5555555555555556,\"#d8576b\"],[0.6666666666666666,\"#ed7953\"],[0.7777777777777778,\"#fb9f3a\"],[0.8888888888888888,\"#fdca26\"],[1.0,\"#f0f921\"]],\"diverging\":[[0,\"#8e0152\"],[0.1,\"#c51b7d\"],[0.2,\"#de77ae\"],[0.3,\"#f1b6da\"],[0.4,\"#fde0ef\"],[0.5,\"#f7f7f7\"],[0.6,\"#e6f5d0\"],[0.7,\"#b8e186\"],[0.8,\"#7fbc41\"],[0.9,\"#4d9221\"],[1,\"#276419\"]]},\"xaxis\":{\"gridcolor\":\"white\",\"linecolor\":\"white\",\"ticks\":\"\",\"title\":{\"standoff\":15},\"zerolinecolor\":\"white\",\"automargin\":true,\"zerolinewidth\":2},\"yaxis\":{\"gridcolor\":\"white\",\"linecolor\":\"white\",\"ticks\":\"\",\"title\":{\"standoff\":15},\"zerolinecolor\":\"white\",\"automargin\":true,\"zerolinewidth\":2},\"scene\":{\"xaxis\":{\"backgroundcolor\":\"#E5ECF6\",\"gridcolor\":\"white\",\"linecolor\":\"white\",\"showbackground\":true,\"ticks\":\"\",\"zerolinecolor\":\"white\",\"gridwidth\":2},\"yaxis\":{\"backgroundcolor\":\"#E5ECF6\",\"gridcolor\":\"white\",\"linecolor\":\"white\",\"showbackground\":true,\"ticks\":\"\",\"zerolinecolor\":\"white\",\"gridwidth\":2},\"zaxis\":{\"backgroundcolor\":\"#E5ECF6\",\"gridcolor\":\"white\",\"linecolor\":\"white\",\"showbackground\":true,\"ticks\":\"\",\"zerolinecolor\":\"white\",\"gridwidth\":2}},\"shapedefaults\":{\"line\":{\"color\":\"#2a3f5f\"}},\"annotationdefaults\":{\"arrowcolor\":\"#2a3f5f\",\"arrowhead\":0,\"arrowwidth\":1},\"geo\":{\"bgcolor\":\"white\",\"landcolor\":\"#E5ECF6\",\"subunitcolor\":\"white\",\"showland\":true,\"showlakes\":true,\"lakecolor\":\"white\"},\"title\":{\"x\":0.05},\"mapbox\":{\"style\":\"light\"}}},\"xaxis\":{\"anchor\":\"y\",\"domain\":[0.0,0.45],\"title\":{\"text\":\"Epoch\"}},\"yaxis\":{\"anchor\":\"x\",\"domain\":[0.0,1.0],\"title\":{\"text\":\"Root Mean Squared Error\"},\"range\":[2.9980138778686527,8.037385940551758]},\"xaxis2\":{\"anchor\":\"y2\",\"domain\":[0.55,1.0],\"title\":{\"text\":\"TRIP_MILES\"}},\"yaxis2\":{\"anchor\":\"x2\",\"domain\":[0.0,1.0],\"title\":{\"text\":\"FARE\"}},\"annotations\":[{\"font\":{\"size\":16},\"showarrow\":false,\"text\":\"Loss Curve\",\"x\":0.225,\"xanchor\":\"center\",\"xref\":\"paper\",\"y\":1.0,\"yanchor\":\"bottom\",\"yref\":\"paper\"},{\"font\":{\"size\":16},\"showarrow\":false,\"text\":\"Model Plot\",\"x\":0.775,\"xanchor\":\"center\",\"xref\":\"paper\",\"y\":1.0,\"yanchor\":\"bottom\",\"yref\":\"paper\"}]},                        {\"responsive\": true}                    ).then(function(){\n",
       "                            \n",
       "var gd = document.getElementById('9f12e29e-e7cf-405b-a656-338728d3b5a7');\n",
       "var x = new MutationObserver(function (mutations, observer) {{\n",
       "        var display = window.getComputedStyle(gd).display;\n",
       "        if (!display || display === 'none') {{\n",
       "            console.log([gd, 'removed!']);\n",
       "            Plotly.purge(gd);\n",
       "            observer.disconnect();\n",
       "        }}\n",
       "}});\n",
       "\n",
       "// Listen for the removal of the full notebook cells\n",
       "var notebookContainer = gd.closest('#notebook-container');\n",
       "if (notebookContainer) {{\n",
       "    x.observe(notebookContainer, {childList: true});\n",
       "}}\n",
       "\n",
       "// Listen for the clearing of the current output cell\n",
       "var outputEl = gd.closest('.output');\n",
       "if (outputEl) {{\n",
       "    x.observe(outputEl, {childList: true});\n",
       "}}\n",
       "\n",
       "                        })                };                });            </script>        </div>"
      ]
     },
     "metadata": {},
     "output_type": "display_data"
    }
   ],
   "source": [
    "learning_rate=0.01\n",
    "epochs=50\n",
    "batch_size=50\n",
    "\n",
    "features=['TRIP_MILES']\n",
    "label='FARE'\n",
    "model_1= run_experiment(training_df,features,label,learning_rate,epochs,batch_size)"
   ]
  },
  {
   "cell_type": "code",
   "execution_count": 127,
   "id": "0fe2837c-305c-4915-a233-a62fad86f23d",
   "metadata": {},
   "outputs": [
    {
     "name": "stdout",
     "output_type": "stream",
     "text": [
      "INFO: starting training experiment with features=['TRIP_MILES', 'TRIP_MINUTES'] and label=FARE\n",
      "\n",
      "Epoch 1/20\n"
     ]
    },
    {
     "name": "stderr",
     "output_type": "stream",
     "text": [
      "C:\\Users\\visha\\AppData\\Local\\Temp\\ipykernel_20044\\3664434706.py:8: SettingWithCopyWarning:\n",
      "\n",
      "\n",
      "A value is trying to be set on a copy of a slice from a DataFrame.\n",
      "Try using .loc[row_indexer,col_indexer] = value instead\n",
      "\n",
      "See the caveats in the documentation: https://pandas.pydata.org/pandas-docs/stable/user_guide/indexing.html#returning-a-view-versus-a-copy\n",
      "\n"
     ]
    },
    {
     "name": "stdout",
     "output_type": "stream",
     "text": [
      "\u001b[1m634/634\u001b[0m \u001b[32m━━━━━━━━━━━━━━━━━━━━\u001b[0m\u001b[37m\u001b[0m \u001b[1m1s\u001b[0m 1ms/step - loss: 169.2858 - root_mean_squared_error: 12.9295  \n",
      "Epoch 2/20\n",
      "\u001b[1m634/634\u001b[0m \u001b[32m━━━━━━━━━━━━━━━━━━━━\u001b[0m\u001b[37m\u001b[0m \u001b[1m1s\u001b[0m 1ms/step - loss: 65.1115 - root_mean_squared_error: 8.0631\n",
      "Epoch 3/20\n",
      "\u001b[1m634/634\u001b[0m \u001b[32m━━━━━━━━━━━━━━━━━━━━\u001b[0m\u001b[37m\u001b[0m \u001b[1m1s\u001b[0m 905us/step - loss: 40.0528 - root_mean_squared_error: 6.3230\n",
      "Epoch 4/20\n",
      "\u001b[1m634/634\u001b[0m \u001b[32m━━━━━━━━━━━━━━━━━━━━\u001b[0m\u001b[37m\u001b[0m \u001b[1m1s\u001b[0m 920us/step - loss: 23.9264 - root_mean_squared_error: 4.8837\n",
      "Epoch 5/20\n",
      "\u001b[1m634/634\u001b[0m \u001b[32m━━━━━━━━━━━━━━━━━━━━\u001b[0m\u001b[37m\u001b[0m \u001b[1m1s\u001b[0m 965us/step - loss: 15.5565 - root_mean_squared_error: 3.9408\n",
      "Epoch 6/20\n",
      "\u001b[1m634/634\u001b[0m \u001b[32m━━━━━━━━━━━━━━━━━━━━\u001b[0m\u001b[37m\u001b[0m \u001b[1m1s\u001b[0m 1ms/step - loss: 12.3930 - root_mean_squared_error: 3.5149\n",
      "Epoch 7/20\n",
      "\u001b[1m634/634\u001b[0m \u001b[32m━━━━━━━━━━━━━━━━━━━━\u001b[0m\u001b[37m\u001b[0m \u001b[1m1s\u001b[0m 1ms/step - loss: 12.3192 - root_mean_squared_error: 3.5073\n",
      "Epoch 8/20\n",
      "\u001b[1m634/634\u001b[0m \u001b[32m━━━━━━━━━━━━━━━━━━━━\u001b[0m\u001b[37m\u001b[0m \u001b[1m1s\u001b[0m 1ms/step - loss: 11.4251 - root_mean_squared_error: 3.3680\n",
      "Epoch 9/20\n",
      "\u001b[1m634/634\u001b[0m \u001b[32m━━━━━━━━━━━━━━━━━━━━\u001b[0m\u001b[37m\u001b[0m \u001b[1m1s\u001b[0m 947us/step - loss: 11.3131 - root_mean_squared_error: 3.3438\n",
      "Epoch 10/20\n",
      "\u001b[1m634/634\u001b[0m \u001b[32m━━━━━━━━━━━━━━━━━━━━\u001b[0m\u001b[37m\u001b[0m \u001b[1m1s\u001b[0m 914us/step - loss: 13.1035 - root_mean_squared_error: 3.6113\n",
      "Epoch 11/20\n",
      "\u001b[1m634/634\u001b[0m \u001b[32m━━━━━━━━━━━━━━━━━━━━\u001b[0m\u001b[37m\u001b[0m \u001b[1m1s\u001b[0m 875us/step - loss: 12.8083 - root_mean_squared_error: 3.5713\n",
      "Epoch 12/20\n",
      "\u001b[1m634/634\u001b[0m \u001b[32m━━━━━━━━━━━━━━━━━━━━\u001b[0m\u001b[37m\u001b[0m \u001b[1m1s\u001b[0m 943us/step - loss: 12.9834 - root_mean_squared_error: 3.5881\n",
      "Epoch 13/20\n",
      "\u001b[1m634/634\u001b[0m \u001b[32m━━━━━━━━━━━━━━━━━━━━\u001b[0m\u001b[37m\u001b[0m \u001b[1m1s\u001b[0m 1ms/step - loss: 11.8365 - root_mean_squared_error: 3.4340\n",
      "Epoch 14/20\n",
      "\u001b[1m634/634\u001b[0m \u001b[32m━━━━━━━━━━━━━━━━━━━━\u001b[0m\u001b[37m\u001b[0m \u001b[1m1s\u001b[0m 897us/step - loss: 11.5664 - root_mean_squared_error: 3.3960\n",
      "Epoch 15/20\n",
      "\u001b[1m634/634\u001b[0m \u001b[32m━━━━━━━━━━━━━━━━━━━━\u001b[0m\u001b[37m\u001b[0m \u001b[1m1s\u001b[0m 930us/step - loss: 12.2062 - root_mean_squared_error: 3.4863\n",
      "Epoch 16/20\n",
      "\u001b[1m634/634\u001b[0m \u001b[32m━━━━━━━━━━━━━━━━━━━━\u001b[0m\u001b[37m\u001b[0m \u001b[1m1s\u001b[0m 949us/step - loss: 11.5343 - root_mean_squared_error: 3.3896\n",
      "Epoch 17/20\n",
      "\u001b[1m634/634\u001b[0m \u001b[32m━━━━━━━━━━━━━━━━━━━━\u001b[0m\u001b[37m\u001b[0m \u001b[1m1s\u001b[0m 1ms/step - loss: 10.7022 - root_mean_squared_error: 3.2673\n",
      "Epoch 18/20\n",
      "\u001b[1m634/634\u001b[0m \u001b[32m━━━━━━━━━━━━━━━━━━━━\u001b[0m\u001b[37m\u001b[0m \u001b[1m1s\u001b[0m 932us/step - loss: 12.1665 - root_mean_squared_error: 3.4760\n",
      "Epoch 19/20\n",
      "\u001b[1m634/634\u001b[0m \u001b[32m━━━━━━━━━━━━━━━━━━━━\u001b[0m\u001b[37m\u001b[0m \u001b[1m1s\u001b[0m 1ms/step - loss: 11.8699 - root_mean_squared_error: 3.4437  \n",
      "Epoch 20/20\n",
      "\u001b[1m634/634\u001b[0m \u001b[32m━━━━━━━━━━━━━━━━━━━━\u001b[0m\u001b[37m\u001b[0m \u001b[1m1s\u001b[0m 1ms/step - loss: 13.7284 - root_mean_squared_error: 3.6988\n",
      "\n",
      "SUCCESS: training experiment complete\n",
      "\n",
      "--------------------------------------------------------------------------------\n",
      "|                                  MODEL INFO                                  |\n",
      "--------------------------------------------------------------------------------\n",
      "Weight for feature[TRIP_MILES]: 2.026\n",
      "Weight for feature[TRIP_MINUTES]: 0.143\n",
      "Bias: 3.814\n",
      "\n",
      "FARE = 2.026 * TRIP_MILES + 0.143 * TRIP_MINUTES + 3.814\n",
      "\n"
     ]
    },
    {
     "data": {
      "application/vnd.plotly.v1+json": {
       "config": {
        "plotlyServerURL": "https://plot.ly"
       },
       "data": [
        {
         "hovertemplate": "TRIP_MILES=%{x}<br>TRIP_MINUTES=%{y}<br>FARE=%{z}<extra></extra>",
         "legendgroup": "",
         "marker": {
          "color": "#636efa",
          "symbol": "circle"
         },
         "mode": "markers",
         "name": "",
         "scene": "scene",
         "showlegend": false,
         "type": "scatter3d",
         "x": [
          1.89,
          6.9,
          4.35,
          6.76,
          26.44,
          26.45,
          12.2,
          6.44,
          13.9,
          11.03,
          3.08,
          17.88,
          9.17,
          2.63,
          0.62,
          1.2,
          8,
          18.59,
          1.14,
          17.17,
          10.71,
          8.26,
          4.36,
          4.89,
          20.02,
          1.55,
          10.36,
          4.49,
          23.87,
          1.17,
          4.1,
          10.36,
          17.51,
          1.9,
          10.4,
          18.67,
          0.5,
          5.33,
          0.71,
          11.79,
          10.79,
          1.21,
          12.67,
          3.5,
          5.86,
          17,
          5.4,
          0.65,
          0.98,
          2.86,
          0.57,
          17.5,
          17.51,
          0.89,
          5.88,
          0.59,
          12.4,
          7.4,
          3.4,
          4.14,
          11.1,
          17.16,
          1.63,
          4.9,
          1.3,
          12.6,
          33.1,
          0.9,
          1.28,
          17.79,
          5.1,
          0.6,
          7.9,
          1.7,
          17.5,
          11.76,
          0.52,
          10.3,
          1.62,
          2.57,
          5.4,
          3.8,
          12.43,
          3.8,
          1.98,
          1.8,
          18.22,
          10.49,
          2.44,
          17.68,
          4.4,
          15.43,
          17.5,
          2.51,
          18.19,
          12.32,
          2.93,
          7.46,
          17.1,
          2.13,
          17.45,
          12.6,
          0.7,
          7.96,
          1.45,
          1.9,
          1.64,
          4.15,
          14.5,
          2.82,
          14.98,
          17.86,
          17.2,
          1.57,
          0.9,
          1.32,
          17.84,
          1.2,
          17.2,
          18.4,
          10.6,
          2.98,
          19.22,
          0.77,
          8.96,
          18.12,
          0.8,
          0.96,
          24.99,
          1.35,
          9,
          17.5,
          0.81,
          13.37,
          17.13,
          7.31,
          0.5,
          11.9,
          0.55,
          6.3,
          6.44,
          6.01,
          4.99,
          15,
          2.2,
          1.6,
          2,
          11.5,
          7.55,
          0.6,
          1,
          7.94,
          18.2,
          10.89,
          10.4,
          12.63,
          1.8,
          17.35,
          17.4,
          6.8,
          6.8,
          5.43,
          5.9,
          11.38,
          15.58,
          16.49,
          18.2,
          2.48,
          4.6,
          0.88,
          1.08,
          16.81,
          18.7,
          1.91,
          0.66,
          8.3,
          9.45,
          1.2,
          18.7,
          9.18,
          10,
          6.96,
          16.54,
          2.09,
          24.3,
          0.86,
          17.1,
          1.3,
          16.13,
          3.6,
          1.54,
          1.96,
          5.23,
          1.58,
          9.78,
          1.03,
          0.9,
          1.2,
          8.4,
          18.5
         ],
         "y": [
          10.85,
          16,
          23.166666666666668,
          16.333333333333332,
          38.36666666666667,
          64.33333333333333,
          26,
          36.983333333333334,
          48,
          26.483333333333334,
          9.133333333333333,
          24.75,
          36.516666666666666,
          6.85,
          5.933333333333334,
          10,
          47.016666666666666,
          60.81666666666667,
          7.066666666666666,
          23.666666666666668,
          24.966666666666665,
          24.7,
          14.233333333333333,
          32.7,
          20.416666666666668,
          7.633333333333334,
          27.333333333333332,
          13.15,
          47.3,
          5.466666666666667,
          20,
          21.383333333333333,
          55.25,
          6,
          24,
          60.63333333333333,
          5,
          14.783333333333333,
          5.433333333333334,
          43.81666666666667,
          50.766666666666666,
          6.966666666666667,
          16.5,
          11,
          38.85,
          30.716666666666665,
          11,
          3.75,
          7.233333333333333,
          13.516666666666667,
          3.65,
          31,
          28.3,
          8.233333333333333,
          28.55,
          3.65,
          15,
          14,
          17,
          23.483333333333334,
          18,
          34.833333333333336,
          15.933333333333334,
          32,
          10,
          24,
          44,
          5,
          10.416666666666666,
          28.016666666666666,
          12,
          3,
          18,
          7.016666666666667,
          55,
          41.28333333333333,
          6.366666666666666,
          20,
          16.05,
          8.15,
          25.516666666666666,
          35,
          27.533333333333335,
          8.25,
          13.033333333333333,
          12,
          43.36666666666667,
          23.683333333333334,
          14.783333333333333,
          33.266666666666666,
          25.6,
          46.55,
          56,
          13.983333333333333,
          21.266666666666666,
          47.25,
          13.416666666666666,
          30.983333333333334,
          32,
          10.683333333333334,
          33.416666666666664,
          30,
          3.933333333333333,
          26.05,
          8.733333333333333,
          11,
          7.4,
          19.566666666666666,
          24,
          15.083333333333334,
          28.2,
          24.05,
          46,
          17.65,
          7.883333333333334,
          8.783333333333333,
          40.71666666666667,
          9,
          35,
          39,
          19,
          11.033333333333333,
          22.583333333333332,
          3.6166666666666667,
          36.68333333333333,
          25.783333333333335,
          3.716666666666667,
          7.5,
          35.46666666666667,
          7.466666666666667,
          10.216666666666667,
          52,
          5.883333333333334,
          36.18333333333333,
          31.616666666666667,
          17.433333333333334,
          4,
          19,
          4.383333333333334,
          34,
          32.63333333333333,
          23.75,
          13.466666666666667,
          43,
          13,
          9.233333333333333,
          16,
          37,
          49.85,
          3.533333333333333,
          9,
          20.966666666666665,
          30,
          24.083333333333332,
          31.283333333333335,
          19.866666666666667,
          9,
          58.4,
          37,
          15,
          17,
          47,
          10,
          27.25,
          34.2,
          37.2,
          33,
          10.566666666666666,
          17.75,
          5.933333333333334,
          4.8,
          33.93333333333333,
          48,
          15.2,
          4.333333333333333,
          15,
          30.116666666666667,
          7,
          30,
          21.75,
          26.35,
          25.316666666666666,
          31.166666666666668,
          13.45,
          33,
          5.6,
          26,
          7,
          29.433333333333334,
          17.35,
          10.25,
          12.883333333333333,
          13,
          11.4,
          17.416666666666668,
          2.9833333333333334,
          7,
          3,
          18,
          27.366666666666667
         ],
         "z": [
          9.27,
          20.25,
          15.75,
          19,
          65,
          65.25,
          32.25,
          22.25,
          37.25,
          30.5,
          11,
          44.5,
          29.5,
          9.5,
          5.5,
          7.5,
          30.5,
          47.75,
          6.75,
          42.25,
          29.5,
          24.5,
          14.25,
          19,
          48.25,
          8,
          28.5,
          14.75,
          62.3,
          6.25,
          15.5,
          27.75,
          45.5,
          7.75,
          28.25,
          48.25,
          5.25,
          16.25,
          9,
          31.75,
          42.75,
          6.75,
          32,
          12,
          16.97,
          44,
          15.5,
          5.25,
          9,
          11,
          4.75,
          43.5,
          43.25,
          6.5,
          20,
          4.75,
          31.25,
          20.25,
          13,
          15.45,
          29,
          42.75,
          9.75,
          18.25,
          8,
          32.5,
          78.75,
          5.75,
          7.75,
          44.5,
          15.5,
          5,
          22,
          7.5,
          48,
          32.75,
          5.75,
          27.5,
          10,
          9.75,
          17.75,
          18,
          32.75,
          12.25,
          9.75,
          10.25,
          45.75,
          27.5,
          10.75,
          43.75,
          16.5,
          42,
          46.25,
          10.46,
          44.75,
          35.25,
          11.25,
          24.5,
          45,
          9,
          43.25,
          34.5,
          5.25,
          23,
          9,
          8.75,
          7.75,
          15,
          36,
          11.25,
          38.25,
          44,
          44.25,
          10,
          6.25,
          8,
          45,
          7.75,
          42.75,
          45.25,
          28.25,
          11.25,
          46.75,
          5,
          27,
          44.5,
          9,
          9,
          61.25,
          6.75,
          23.5,
          44.5,
          9,
          35.44,
          42.5,
          20.25,
          5,
          31.25,
          5,
          22.5,
          21.75,
          20,
          15.75,
          41,
          9.75,
          8,
          10,
          33.5,
          29.25,
          5,
          6.75,
          22.75,
          45.75,
          29.25,
          30,
          32.5,
          8.25,
          44.75,
          44.25,
          19,
          19.5,
          26,
          16.75,
          30.75,
          40,
          41.55,
          45.25,
          9.78,
          14.75,
          6,
          6.25,
          43.5,
          48,
          10,
          5.25,
          23,
          26.25,
          6.75,
          46.75,
          26,
          28,
          21.75,
          41.25,
          10,
          59.5,
          6,
          42.75,
          6.75,
          41.25,
          13.25,
          8.25,
          9.5,
          15.5,
          9,
          25.81,
          5.5,
          6.25,
          6,
          23.25,
          67.5
         ]
        },
        {
         "colorscale": [
          [
           0,
           "#89CFF0"
          ],
          [
           1,
           "#FFDB58"
          ]
         ],
         "scene": "scene",
         "type": "surface",
         "x": [
          0.5719551687093928,
          13.661665595423644,
          31.660896625812143
         ],
         "y": [
          2.9833333333333334,
          30.674999999999997,
          64.33333333333333
         ],
         "z": [
          [
           5.400487840175629,
           35.88736923933029,
           77.17522631883621
          ],
          [
           5.400487840175629,
           35.88736923933029,
           77.17522631883621
          ],
          [
           5.400487840175629,
           35.88736923933029,
           77.17522631883621
          ]
         ]
        },
        {
         "hovertemplate": "x=%{x}<br>y=%{y}<extra></extra>",
         "legendgroup": "",
         "line": {
          "color": "#ff0000",
          "dash": "solid",
          "width": 3
         },
         "marker": {
          "symbol": "circle"
         },
         "mode": "lines",
         "name": "",
         "orientation": "v",
         "showlegend": false,
         "type": "scatter",
         "x": [
          0,
          1,
          2,
          3,
          4,
          5,
          6,
          7,
          8,
          9,
          10,
          11,
          12,
          13,
          14,
          15,
          16,
          17,
          18,
          19
         ],
         "xaxis": "x",
         "y": [
          10.967185974121094,
          7.586032390594482,
          5.913606643676758,
          4.611876964569092,
          3.888908863067627,
          3.6303560733795166,
          3.5494277477264404,
          3.514173984527588,
          3.4953370094299316,
          3.485426664352417,
          3.481844425201416,
          3.479444980621338,
          3.4795711040496826,
          3.478837013244629,
          3.478081226348877,
          3.4786734580993652,
          3.478306770324707,
          3.4779176712036133,
          3.478062868118286,
          3.4777777194976807
         ],
         "yaxis": "y"
        }
       ],
       "layout": {
        "annotations": [
         {
          "font": {
           "size": 16
          },
          "showarrow": false,
          "text": "Loss Curve",
          "x": 0.225,
          "xanchor": "center",
          "xref": "paper",
          "y": 1,
          "yanchor": "bottom",
          "yref": "paper"
         },
         {
          "font": {
           "size": 16
          },
          "showarrow": false,
          "text": "Model Plot",
          "x": 0.775,
          "xanchor": "center",
          "xref": "paper",
          "y": 1,
          "yanchor": "bottom",
          "yref": "paper"
         }
        ],
        "autosize": true,
        "scene": {
         "aspectmode": "auto",
         "aspectratio": {
          "x": 0.6163058703729837,
          "y": 1.1598271517602006,
          "z": 1.3989765155705762
         },
         "domain": {
          "x": [
           0.55,
           1
          ],
          "y": [
           0,
           1
          ]
         },
         "xaxis": {
          "title": {
           "text": "TRIP_MILES"
          },
          "type": "linear"
         },
         "yaxis": {
          "title": {
           "text": "TRIP_MINUTES"
          },
          "type": "linear"
         },
         "zaxis": {
          "title": {
           "text": "FARE"
          },
          "type": "linear"
         }
        },
        "template": {
         "data": {
          "bar": [
           {
            "error_x": {
             "color": "#2a3f5f"
            },
            "error_y": {
             "color": "#2a3f5f"
            },
            "marker": {
             "line": {
              "color": "#E5ECF6",
              "width": 0.5
             },
             "pattern": {
              "fillmode": "overlay",
              "size": 10,
              "solidity": 0.2
             }
            },
            "type": "bar"
           }
          ],
          "barpolar": [
           {
            "marker": {
             "line": {
              "color": "#E5ECF6",
              "width": 0.5
             },
             "pattern": {
              "fillmode": "overlay",
              "size": 10,
              "solidity": 0.2
             }
            },
            "type": "barpolar"
           }
          ],
          "carpet": [
           {
            "aaxis": {
             "endlinecolor": "#2a3f5f",
             "gridcolor": "white",
             "linecolor": "white",
             "minorgridcolor": "white",
             "startlinecolor": "#2a3f5f"
            },
            "baxis": {
             "endlinecolor": "#2a3f5f",
             "gridcolor": "white",
             "linecolor": "white",
             "minorgridcolor": "white",
             "startlinecolor": "#2a3f5f"
            },
            "type": "carpet"
           }
          ],
          "choropleth": [
           {
            "colorbar": {
             "outlinewidth": 0,
             "ticks": ""
            },
            "type": "choropleth"
           }
          ],
          "contour": [
           {
            "colorbar": {
             "outlinewidth": 0,
             "ticks": ""
            },
            "colorscale": [
             [
              0,
              "#0d0887"
             ],
             [
              0.1111111111111111,
              "#46039f"
             ],
             [
              0.2222222222222222,
              "#7201a8"
             ],
             [
              0.3333333333333333,
              "#9c179e"
             ],
             [
              0.4444444444444444,
              "#bd3786"
             ],
             [
              0.5555555555555556,
              "#d8576b"
             ],
             [
              0.6666666666666666,
              "#ed7953"
             ],
             [
              0.7777777777777778,
              "#fb9f3a"
             ],
             [
              0.8888888888888888,
              "#fdca26"
             ],
             [
              1,
              "#f0f921"
             ]
            ],
            "type": "contour"
           }
          ],
          "contourcarpet": [
           {
            "colorbar": {
             "outlinewidth": 0,
             "ticks": ""
            },
            "type": "contourcarpet"
           }
          ],
          "heatmap": [
           {
            "colorbar": {
             "outlinewidth": 0,
             "ticks": ""
            },
            "colorscale": [
             [
              0,
              "#0d0887"
             ],
             [
              0.1111111111111111,
              "#46039f"
             ],
             [
              0.2222222222222222,
              "#7201a8"
             ],
             [
              0.3333333333333333,
              "#9c179e"
             ],
             [
              0.4444444444444444,
              "#bd3786"
             ],
             [
              0.5555555555555556,
              "#d8576b"
             ],
             [
              0.6666666666666666,
              "#ed7953"
             ],
             [
              0.7777777777777778,
              "#fb9f3a"
             ],
             [
              0.8888888888888888,
              "#fdca26"
             ],
             [
              1,
              "#f0f921"
             ]
            ],
            "type": "heatmap"
           }
          ],
          "heatmapgl": [
           {
            "colorbar": {
             "outlinewidth": 0,
             "ticks": ""
            },
            "colorscale": [
             [
              0,
              "#0d0887"
             ],
             [
              0.1111111111111111,
              "#46039f"
             ],
             [
              0.2222222222222222,
              "#7201a8"
             ],
             [
              0.3333333333333333,
              "#9c179e"
             ],
             [
              0.4444444444444444,
              "#bd3786"
             ],
             [
              0.5555555555555556,
              "#d8576b"
             ],
             [
              0.6666666666666666,
              "#ed7953"
             ],
             [
              0.7777777777777778,
              "#fb9f3a"
             ],
             [
              0.8888888888888888,
              "#fdca26"
             ],
             [
              1,
              "#f0f921"
             ]
            ],
            "type": "heatmapgl"
           }
          ],
          "histogram": [
           {
            "marker": {
             "pattern": {
              "fillmode": "overlay",
              "size": 10,
              "solidity": 0.2
             }
            },
            "type": "histogram"
           }
          ],
          "histogram2d": [
           {
            "colorbar": {
             "outlinewidth": 0,
             "ticks": ""
            },
            "colorscale": [
             [
              0,
              "#0d0887"
             ],
             [
              0.1111111111111111,
              "#46039f"
             ],
             [
              0.2222222222222222,
              "#7201a8"
             ],
             [
              0.3333333333333333,
              "#9c179e"
             ],
             [
              0.4444444444444444,
              "#bd3786"
             ],
             [
              0.5555555555555556,
              "#d8576b"
             ],
             [
              0.6666666666666666,
              "#ed7953"
             ],
             [
              0.7777777777777778,
              "#fb9f3a"
             ],
             [
              0.8888888888888888,
              "#fdca26"
             ],
             [
              1,
              "#f0f921"
             ]
            ],
            "type": "histogram2d"
           }
          ],
          "histogram2dcontour": [
           {
            "colorbar": {
             "outlinewidth": 0,
             "ticks": ""
            },
            "colorscale": [
             [
              0,
              "#0d0887"
             ],
             [
              0.1111111111111111,
              "#46039f"
             ],
             [
              0.2222222222222222,
              "#7201a8"
             ],
             [
              0.3333333333333333,
              "#9c179e"
             ],
             [
              0.4444444444444444,
              "#bd3786"
             ],
             [
              0.5555555555555556,
              "#d8576b"
             ],
             [
              0.6666666666666666,
              "#ed7953"
             ],
             [
              0.7777777777777778,
              "#fb9f3a"
             ],
             [
              0.8888888888888888,
              "#fdca26"
             ],
             [
              1,
              "#f0f921"
             ]
            ],
            "type": "histogram2dcontour"
           }
          ],
          "mesh3d": [
           {
            "colorbar": {
             "outlinewidth": 0,
             "ticks": ""
            },
            "type": "mesh3d"
           }
          ],
          "parcoords": [
           {
            "line": {
             "colorbar": {
              "outlinewidth": 0,
              "ticks": ""
             }
            },
            "type": "parcoords"
           }
          ],
          "pie": [
           {
            "automargin": true,
            "type": "pie"
           }
          ],
          "scatter": [
           {
            "fillpattern": {
             "fillmode": "overlay",
             "size": 10,
             "solidity": 0.2
            },
            "type": "scatter"
           }
          ],
          "scatter3d": [
           {
            "line": {
             "colorbar": {
              "outlinewidth": 0,
              "ticks": ""
             }
            },
            "marker": {
             "colorbar": {
              "outlinewidth": 0,
              "ticks": ""
             }
            },
            "type": "scatter3d"
           }
          ],
          "scattercarpet": [
           {
            "marker": {
             "colorbar": {
              "outlinewidth": 0,
              "ticks": ""
             }
            },
            "type": "scattercarpet"
           }
          ],
          "scattergeo": [
           {
            "marker": {
             "colorbar": {
              "outlinewidth": 0,
              "ticks": ""
             }
            },
            "type": "scattergeo"
           }
          ],
          "scattergl": [
           {
            "marker": {
             "colorbar": {
              "outlinewidth": 0,
              "ticks": ""
             }
            },
            "type": "scattergl"
           }
          ],
          "scattermapbox": [
           {
            "marker": {
             "colorbar": {
              "outlinewidth": 0,
              "ticks": ""
             }
            },
            "type": "scattermapbox"
           }
          ],
          "scatterpolar": [
           {
            "marker": {
             "colorbar": {
              "outlinewidth": 0,
              "ticks": ""
             }
            },
            "type": "scatterpolar"
           }
          ],
          "scatterpolargl": [
           {
            "marker": {
             "colorbar": {
              "outlinewidth": 0,
              "ticks": ""
             }
            },
            "type": "scatterpolargl"
           }
          ],
          "scatterternary": [
           {
            "marker": {
             "colorbar": {
              "outlinewidth": 0,
              "ticks": ""
             }
            },
            "type": "scatterternary"
           }
          ],
          "surface": [
           {
            "colorbar": {
             "outlinewidth": 0,
             "ticks": ""
            },
            "colorscale": [
             [
              0,
              "#0d0887"
             ],
             [
              0.1111111111111111,
              "#46039f"
             ],
             [
              0.2222222222222222,
              "#7201a8"
             ],
             [
              0.3333333333333333,
              "#9c179e"
             ],
             [
              0.4444444444444444,
              "#bd3786"
             ],
             [
              0.5555555555555556,
              "#d8576b"
             ],
             [
              0.6666666666666666,
              "#ed7953"
             ],
             [
              0.7777777777777778,
              "#fb9f3a"
             ],
             [
              0.8888888888888888,
              "#fdca26"
             ],
             [
              1,
              "#f0f921"
             ]
            ],
            "type": "surface"
           }
          ],
          "table": [
           {
            "cells": {
             "fill": {
              "color": "#EBF0F8"
             },
             "line": {
              "color": "white"
             }
            },
            "header": {
             "fill": {
              "color": "#C8D4E3"
             },
             "line": {
              "color": "white"
             }
            },
            "type": "table"
           }
          ]
         },
         "layout": {
          "annotationdefaults": {
           "arrowcolor": "#2a3f5f",
           "arrowhead": 0,
           "arrowwidth": 1
          },
          "autotypenumbers": "strict",
          "coloraxis": {
           "colorbar": {
            "outlinewidth": 0,
            "ticks": ""
           }
          },
          "colorscale": {
           "diverging": [
            [
             0,
             "#8e0152"
            ],
            [
             0.1,
             "#c51b7d"
            ],
            [
             0.2,
             "#de77ae"
            ],
            [
             0.3,
             "#f1b6da"
            ],
            [
             0.4,
             "#fde0ef"
            ],
            [
             0.5,
             "#f7f7f7"
            ],
            [
             0.6,
             "#e6f5d0"
            ],
            [
             0.7,
             "#b8e186"
            ],
            [
             0.8,
             "#7fbc41"
            ],
            [
             0.9,
             "#4d9221"
            ],
            [
             1,
             "#276419"
            ]
           ],
           "sequential": [
            [
             0,
             "#0d0887"
            ],
            [
             0.1111111111111111,
             "#46039f"
            ],
            [
             0.2222222222222222,
             "#7201a8"
            ],
            [
             0.3333333333333333,
             "#9c179e"
            ],
            [
             0.4444444444444444,
             "#bd3786"
            ],
            [
             0.5555555555555556,
             "#d8576b"
            ],
            [
             0.6666666666666666,
             "#ed7953"
            ],
            [
             0.7777777777777778,
             "#fb9f3a"
            ],
            [
             0.8888888888888888,
             "#fdca26"
            ],
            [
             1,
             "#f0f921"
            ]
           ],
           "sequentialminus": [
            [
             0,
             "#0d0887"
            ],
            [
             0.1111111111111111,
             "#46039f"
            ],
            [
             0.2222222222222222,
             "#7201a8"
            ],
            [
             0.3333333333333333,
             "#9c179e"
            ],
            [
             0.4444444444444444,
             "#bd3786"
            ],
            [
             0.5555555555555556,
             "#d8576b"
            ],
            [
             0.6666666666666666,
             "#ed7953"
            ],
            [
             0.7777777777777778,
             "#fb9f3a"
            ],
            [
             0.8888888888888888,
             "#fdca26"
            ],
            [
             1,
             "#f0f921"
            ]
           ]
          },
          "colorway": [
           "#636efa",
           "#EF553B",
           "#00cc96",
           "#ab63fa",
           "#FFA15A",
           "#19d3f3",
           "#FF6692",
           "#B6E880",
           "#FF97FF",
           "#FECB52"
          ],
          "font": {
           "color": "#2a3f5f"
          },
          "geo": {
           "bgcolor": "white",
           "lakecolor": "white",
           "landcolor": "#E5ECF6",
           "showlakes": true,
           "showland": true,
           "subunitcolor": "white"
          },
          "hoverlabel": {
           "align": "left"
          },
          "hovermode": "closest",
          "mapbox": {
           "style": "light"
          },
          "paper_bgcolor": "white",
          "plot_bgcolor": "#E5ECF6",
          "polar": {
           "angularaxis": {
            "gridcolor": "white",
            "linecolor": "white",
            "ticks": ""
           },
           "bgcolor": "#E5ECF6",
           "radialaxis": {
            "gridcolor": "white",
            "linecolor": "white",
            "ticks": ""
           }
          },
          "scene": {
           "xaxis": {
            "backgroundcolor": "#E5ECF6",
            "gridcolor": "white",
            "gridwidth": 2,
            "linecolor": "white",
            "showbackground": true,
            "ticks": "",
            "zerolinecolor": "white"
           },
           "yaxis": {
            "backgroundcolor": "#E5ECF6",
            "gridcolor": "white",
            "gridwidth": 2,
            "linecolor": "white",
            "showbackground": true,
            "ticks": "",
            "zerolinecolor": "white"
           },
           "zaxis": {
            "backgroundcolor": "#E5ECF6",
            "gridcolor": "white",
            "gridwidth": 2,
            "linecolor": "white",
            "showbackground": true,
            "ticks": "",
            "zerolinecolor": "white"
           }
          },
          "shapedefaults": {
           "line": {
            "color": "#2a3f5f"
           }
          },
          "ternary": {
           "aaxis": {
            "gridcolor": "white",
            "linecolor": "white",
            "ticks": ""
           },
           "baxis": {
            "gridcolor": "white",
            "linecolor": "white",
            "ticks": ""
           },
           "bgcolor": "#E5ECF6",
           "caxis": {
            "gridcolor": "white",
            "linecolor": "white",
            "ticks": ""
           }
          },
          "title": {
           "x": 0.05
          },
          "xaxis": {
           "automargin": true,
           "gridcolor": "white",
           "linecolor": "white",
           "ticks": "",
           "title": {
            "standoff": 15
           },
           "zerolinecolor": "white",
           "zerolinewidth": 2
          },
          "yaxis": {
           "automargin": true,
           "gridcolor": "white",
           "linecolor": "white",
           "ticks": "",
           "title": {
            "standoff": 15
           },
           "zerolinecolor": "white",
           "zerolinewidth": 2
          }
         }
        },
        "xaxis": {
         "anchor": "y",
         "autorange": true,
         "domain": [
          0,
          0.45
         ],
         "range": [
          0,
          19
         ],
         "title": {
          "text": "Epoch"
         },
         "type": "linear"
        },
        "yaxis": {
         "anchor": "x",
         "domain": [
          0,
          1
         ],
         "range": [
          2.782222175598145,
          10.967185974121094
         ],
         "title": {
          "text": "Root Mean Squared Error"
         },
         "type": "linear"
        }
       }
      },
      "image/png": "[encoded data removed]",
      "text/html": [
       "<div>                            <div id=\"0cd3ddfb-7ecb-4d2c-bb8d-b605b273afca\" class=\"plotly-graph-div\" style=\"height:525px; width:100%;\"></div>            <script type=\"text/javascript\">                require([\"plotly\"], function(Plotly) {                    window.PLOTLYENV=window.PLOTLYENV || {};                                    if (document.getElementById(\"0cd3ddfb-7ecb-4d2c-bb8d-b605b273afca\")) {                    Plotly.newPlot(                        \"0cd3ddfb-7ecb-4d2c-bb8d-b605b273afca\",                        [{\"hovertemplate\":\"TRIP_MILES=%{x}\\u003cbr\\u003eTRIP_MINUTES=%{y}\\u003cbr\\u003eFARE=%{z}\\u003cextra\\u003e\\u003c\\u002fextra\\u003e\",\"legendgroup\":\"\",\"marker\":{\"color\":\"#636efa\",\"symbol\":\"circle\"},\"mode\":\"markers\",\"name\":\"\",\"scene\":\"scene\",\"showlegend\":false,\"x\":[1.89,6.9,4.35,6.76,26.44,26.45,12.2,6.44,13.9,11.03,3.08,17.88,9.17,2.63,0.62,1.2,8.0,18.59,1.14,17.17,10.71,8.26,4.36,4.89,20.02,1.55,10.36,4.49,23.87,1.17,4.1,10.36,17.51,1.9,10.4,18.67,0.5,5.33,0.71,11.79,10.79,1.21,12.67,3.5,5.86,17.0,5.4,0.65,0.98,2.86,0.57,17.5,17.51,0.89,5.88,0.59,12.4,7.4,3.4,4.14,11.1,17.16,1.63,4.9,1.3,12.6,33.1,0.9,1.28,17.79,5.1,0.6,7.9,1.7,17.5,11.76,0.52,10.3,1.62,2.57,5.4,3.8,12.43,3.8,1.98,1.8,18.22,10.49,2.44,17.68,4.4,15.43,17.5,2.51,18.19,12.32,2.93,7.46,17.1,2.13,17.45,12.6,0.7,7.96,1.45,1.9,1.64,4.15,14.5,2.82,14.98,17.86,17.2,1.57,0.9,1.32,17.84,1.2,17.2,18.4,10.6,2.98,19.22,0.77,8.96,18.12,0.8,0.96,24.99,1.35,9.0,17.5,0.81,13.37,17.13,7.31,0.5,11.9,0.55,6.3,6.44,6.01,4.99,15.0,2.2,1.6,2.0,11.5,7.55,0.6,1.0,7.94,18.2,10.89,10.4,12.63,1.8,17.35,17.4,6.8,6.8,5.43,5.9,11.38,15.58,16.49,18.2,2.48,4.6,0.88,1.08,16.81,18.7,1.91,0.66,8.3,9.45,1.2,18.7,9.18,10.0,6.96,16.54,2.09,24.3,0.86,17.1,1.3,16.13,3.6,1.54,1.96,5.23,1.58,9.78,1.03,0.9,1.2,8.4,18.5],\"y\":[10.85,16.0,23.166666666666668,16.333333333333332,38.36666666666667,64.33333333333333,26.0,36.983333333333334,48.0,26.483333333333334,9.133333333333333,24.75,36.516666666666666,6.85,5.933333333333334,10.0,47.016666666666666,60.81666666666667,7.066666666666666,23.666666666666668,24.966666666666665,24.7,14.233333333333333,32.7,20.416666666666668,7.633333333333334,27.333333333333332,13.15,47.3,5.466666666666667,20.0,21.383333333333333,55.25,6.0,24.0,60.63333333333333,5.0,14.783333333333333,5.433333333333334,43.81666666666667,50.766666666666666,6.966666666666667,16.5,11.0,38.85,30.716666666666665,11.0,3.75,7.233333333333333,13.516666666666667,3.65,31.0,28.3,8.233333333333333,28.55,3.65,15.0,14.0,17.0,23.483333333333334,18.0,34.833333333333336,15.933333333333334,32.0,10.0,24.0,44.0,5.0,10.416666666666666,28.016666666666666,12.0,3.0,18.0,7.016666666666667,55.0,41.28333333333333,6.366666666666666,20.0,16.05,8.15,25.516666666666666,35.0,27.533333333333335,8.25,13.033333333333333,12.0,43.36666666666667,23.683333333333334,14.783333333333333,33.266666666666666,25.6,46.55,56.0,13.983333333333333,21.266666666666666,47.25,13.416666666666666,30.983333333333334,32.0,10.683333333333334,33.416666666666664,30.0,3.933333333333333,26.05,8.733333333333333,11.0,7.4,19.566666666666666,24.0,15.083333333333334,28.2,24.05,46.0,17.65,7.883333333333334,8.783333333333333,40.71666666666667,9.0,35.0,39.0,19.0,11.033333333333333,22.583333333333332,3.6166666666666667,36.68333333333333,25.783333333333335,3.716666666666667,7.5,35.46666666666667,7.466666666666667,10.216666666666667,52.0,5.883333333333334,36.18333333333333,31.616666666666667,17.433333333333334,4.0,19.0,4.383333333333334,34.0,32.63333333333333,23.75,13.466666666666667,43.0,13.0,9.233333333333333,16.0,37.0,49.85,3.533333333333333,9.0,20.966666666666665,30.0,24.083333333333332,31.283333333333335,19.866666666666667,9.0,58.4,37.0,15.0,17.0,47.0,10.0,27.25,34.2,37.2,33.0,10.566666666666666,17.75,5.933333333333334,4.8,33.93333333333333,48.0,15.2,4.333333333333333,15.0,30.116666666666667,7.0,30.0,21.75,26.35,25.316666666666666,31.166666666666668,13.45,33.0,5.6,26.0,7.0,29.433333333333334,17.35,10.25,12.883333333333333,13.0,11.4,17.416666666666668,2.9833333333333334,7.0,3.0,18.0,27.366666666666667],\"z\":[9.27,20.25,15.75,19.0,65.0,65.25,32.25,22.25,37.25,30.5,11.0,44.5,29.5,9.5,5.5,7.5,30.5,47.75,6.75,42.25,29.5,24.5,14.25,19.0,48.25,8.0,28.5,14.75,62.3,6.25,15.5,27.75,45.5,7.75,28.25,48.25,5.25,16.25,9.0,31.75,42.75,6.75,32.0,12.0,16.97,44.0,15.5,5.25,9.0,11.0,4.75,43.5,43.25,6.5,20.0,4.75,31.25,20.25,13.0,15.45,29.0,42.75,9.75,18.25,8.0,32.5,78.75,5.75,7.75,44.5,15.5,5.0,22.0,7.5,48.0,32.75,5.75,27.5,10.0,9.75,17.75,18.0,32.75,12.25,9.75,10.25,45.75,27.5,10.75,43.75,16.5,42.0,46.25,10.46,44.75,35.25,11.25,24.5,45.0,9.0,43.25,34.5,5.25,23.0,9.0,8.75,7.75,15.0,36.0,11.25,38.25,44.0,44.25,10.0,6.25,8.0,45.0,7.75,42.75,45.25,28.25,11.25,46.75,5.0,27.0,44.5,9.0,9.0,61.25,6.75,23.5,44.5,9.0,35.44,42.5,20.25,5.0,31.25,5.0,22.5,21.75,20.0,15.75,41.0,9.75,8.0,10.0,33.5,29.25,5.0,6.75,22.75,45.75,29.25,30.0,32.5,8.25,44.75,44.25,19.0,19.5,26.0,16.75,30.75,40.0,41.55,45.25,9.78,14.75,6.0,6.25,43.5,48.0,10.0,5.25,23.0,26.25,6.75,46.75,26.0,28.0,21.75,41.25,10.0,59.5,6.0,42.75,6.75,41.25,13.25,8.25,9.5,15.5,9.0,25.81,5.5,6.25,6.0,23.25,67.5],\"type\":\"scatter3d\"},{\"colorscale\":[[0,\"#89CFF0\"],[1,\"#FFDB58\"]],\"x\":[0.5719551687093928,13.661665595423644,31.660896625812143],\"y\":[2.9833333333333334,30.674999999999997,64.33333333333333],\"z\":[[5.400487840175629,35.88736923933029,77.17522631883621],[5.400487840175629,35.88736923933029,77.17522631883621],[5.400487840175629,35.88736923933029,77.17522631883621]],\"type\":\"surface\",\"scene\":\"scene\"},{\"hovertemplate\":\"x=%{x}\\u003cbr\\u003ey=%{y}\\u003cextra\\u003e\\u003c\\u002fextra\\u003e\",\"legendgroup\":\"\",\"line\":{\"color\":\"#ff0000\",\"dash\":\"solid\",\"width\":3},\"marker\":{\"symbol\":\"circle\"},\"mode\":\"lines\",\"name\":\"\",\"orientation\":\"v\",\"showlegend\":false,\"x\":[0,1,2,3,4,5,6,7,8,9,10,11,12,13,14,15,16,17,18,19],\"xaxis\":\"x\",\"y\":[10.967185974121094,7.586032390594482,5.913606643676758,4.611876964569092,3.888908863067627,3.6303560733795166,3.5494277477264404,3.514173984527588,3.4953370094299316,3.485426664352417,3.481844425201416,3.479444980621338,3.4795711040496826,3.478837013244629,3.478081226348877,3.4786734580993652,3.478306770324707,3.4779176712036133,3.478062868118286,3.4777777194976807],\"yaxis\":\"y\",\"type\":\"scatter\"}],                        {\"template\":{\"data\":{\"histogram2dcontour\":[{\"type\":\"histogram2dcontour\",\"colorbar\":{\"outlinewidth\":0,\"ticks\":\"\"},\"colorscale\":[[0.0,\"#0d0887\"],[0.1111111111111111,\"#46039f\"],[0.2222222222222222,\"#7201a8\"],[0.3333333333333333,\"#9c179e\"],[0.4444444444444444,\"#bd3786\"],[0.5555555555555556,\"#d8576b\"],[0.6666666666666666,\"#ed7953\"],[0.7777777777777778,\"#fb9f3a\"],[0.8888888888888888,\"#fdca26\"],[1.0,\"#f0f921\"]]}],\"choropleth\":[{\"type\":\"choropleth\",\"colorbar\":{\"outlinewidth\":0,\"ticks\":\"\"}}],\"histogram2d\":[{\"type\":\"histogram2d\",\"colorbar\":{\"outlinewidth\":0,\"ticks\":\"\"},\"colorscale\":[[0.0,\"#0d0887\"],[0.1111111111111111,\"#46039f\"],[0.2222222222222222,\"#7201a8\"],[0.3333333333333333,\"#9c179e\"],[0.4444444444444444,\"#bd3786\"],[0.5555555555555556,\"#d8576b\"],[0.6666666666666666,\"#ed7953\"],[0.7777777777777778,\"#fb9f3a\"],[0.8888888888888888,\"#fdca26\"],[1.0,\"#f0f921\"]]}],\"heatmap\":[{\"type\":\"heatmap\",\"colorbar\":{\"outlinewidth\":0,\"ticks\":\"\"},\"colorscale\":[[0.0,\"#0d0887\"],[0.1111111111111111,\"#46039f\"],[0.2222222222222222,\"#7201a8\"],[0.3333333333333333,\"#9c179e\"],[0.4444444444444444,\"#bd3786\"],[0.5555555555555556,\"#d8576b\"],[0.6666666666666666,\"#ed7953\"],[0.7777777777777778,\"#fb9f3a\"],[0.8888888888888888,\"#fdca26\"],[1.0,\"#f0f921\"]]}],\"heatmapgl\":[{\"type\":\"heatmapgl\",\"colorbar\":{\"outlinewidth\":0,\"ticks\":\"\"},\"colorscale\":[[0.0,\"#0d0887\"],[0.1111111111111111,\"#46039f\"],[0.2222222222222222,\"#7201a8\"],[0.3333333333333333,\"#9c179e\"],[0.4444444444444444,\"#bd3786\"],[0.5555555555555556,\"#d8576b\"],[0.6666666666666666,\"#ed7953\"],[0.7777777777777778,\"#fb9f3a\"],[0.8888888888888888,\"#fdca26\"],[1.0,\"#f0f921\"]]}],\"contourcarpet\":[{\"type\":\"contourcarpet\",\"colorbar\":{\"outlinewidth\":0,\"ticks\":\"\"}}],\"contour\":[{\"type\":\"contour\",\"colorbar\":{\"outlinewidth\":0,\"ticks\":\"\"},\"colorscale\":[[0.0,\"#0d0887\"],[0.1111111111111111,\"#46039f\"],[0.2222222222222222,\"#7201a8\"],[0.3333333333333333,\"#9c179e\"],[0.4444444444444444,\"#bd3786\"],[0.5555555555555556,\"#d8576b\"],[0.6666666666666666,\"#ed7953\"],[0.7777777777777778,\"#fb9f3a\"],[0.8888888888888888,\"#fdca26\"],[1.0,\"#f0f921\"]]}],\"surface\":[{\"type\":\"surface\",\"colorbar\":{\"outlinewidth\":0,\"ticks\":\"\"},\"colorscale\":[[0.0,\"#0d0887\"],[0.1111111111111111,\"#46039f\"],[0.2222222222222222,\"#7201a8\"],[0.3333333333333333,\"#9c179e\"],[0.4444444444444444,\"#bd3786\"],[0.5555555555555556,\"#d8576b\"],[0.6666666666666666,\"#ed7953\"],[0.7777777777777778,\"#fb9f3a\"],[0.8888888888888888,\"#fdca26\"],[1.0,\"#f0f921\"]]}],\"mesh3d\":[{\"type\":\"mesh3d\",\"colorbar\":{\"outlinewidth\":0,\"ticks\":\"\"}}],\"scatter\":[{\"fillpattern\":{\"fillmode\":\"overlay\",\"size\":10,\"solidity\":0.2},\"type\":\"scatter\"}],\"parcoords\":[{\"type\":\"parcoords\",\"line\":{\"colorbar\":{\"outlinewidth\":0,\"ticks\":\"\"}}}],\"scatterpolargl\":[{\"type\":\"scatterpolargl\",\"marker\":{\"colorbar\":{\"outlinewidth\":0,\"ticks\":\"\"}}}],\"bar\":[{\"error_x\":{\"color\":\"#2a3f5f\"},\"error_y\":{\"color\":\"#2a3f5f\"},\"marker\":{\"line\":{\"color\":\"#E5ECF6\",\"width\":0.5},\"pattern\":{\"fillmode\":\"overlay\",\"size\":10,\"solidity\":0.2}},\"type\":\"bar\"}],\"scattergeo\":[{\"type\":\"scattergeo\",\"marker\":{\"colorbar\":{\"outlinewidth\":0,\"ticks\":\"\"}}}],\"scatterpolar\":[{\"type\":\"scatterpolar\",\"marker\":{\"colorbar\":{\"outlinewidth\":0,\"ticks\":\"\"}}}],\"histogram\":[{\"marker\":{\"pattern\":{\"fillmode\":\"overlay\",\"size\":10,\"solidity\":0.2}},\"type\":\"histogram\"}],\"scattergl\":[{\"type\":\"scattergl\",\"marker\":{\"colorbar\":{\"outlinewidth\":0,\"ticks\":\"\"}}}],\"scatter3d\":[{\"type\":\"scatter3d\",\"line\":{\"colorbar\":{\"outlinewidth\":0,\"ticks\":\"\"}},\"marker\":{\"colorbar\":{\"outlinewidth\":0,\"ticks\":\"\"}}}],\"scattermapbox\":[{\"type\":\"scattermapbox\",\"marker\":{\"colorbar\":{\"outlinewidth\":0,\"ticks\":\"\"}}}],\"scatterternary\":[{\"type\":\"scatterternary\",\"marker\":{\"colorbar\":{\"outlinewidth\":0,\"ticks\":\"\"}}}],\"scattercarpet\":[{\"type\":\"scattercarpet\",\"marker\":{\"colorbar\":{\"outlinewidth\":0,\"ticks\":\"\"}}}],\"carpet\":[{\"aaxis\":{\"endlinecolor\":\"#2a3f5f\",\"gridcolor\":\"white\",\"linecolor\":\"white\",\"minorgridcolor\":\"white\",\"startlinecolor\":\"#2a3f5f\"},\"baxis\":{\"endlinecolor\":\"#2a3f5f\",\"gridcolor\":\"white\",\"linecolor\":\"white\",\"minorgridcolor\":\"white\",\"startlinecolor\":\"#2a3f5f\"},\"type\":\"carpet\"}],\"table\":[{\"cells\":{\"fill\":{\"color\":\"#EBF0F8\"},\"line\":{\"color\":\"white\"}},\"header\":{\"fill\":{\"color\":\"#C8D4E3\"},\"line\":{\"color\":\"white\"}},\"type\":\"table\"}],\"barpolar\":[{\"marker\":{\"line\":{\"color\":\"#E5ECF6\",\"width\":0.5},\"pattern\":{\"fillmode\":\"overlay\",\"size\":10,\"solidity\":0.2}},\"type\":\"barpolar\"}],\"pie\":[{\"automargin\":true,\"type\":\"pie\"}]},\"layout\":{\"autotypenumbers\":\"strict\",\"colorway\":[\"#636efa\",\"#EF553B\",\"#00cc96\",\"#ab63fa\",\"#FFA15A\",\"#19d3f3\",\"#FF6692\",\"#B6E880\",\"#FF97FF\",\"#FECB52\"],\"font\":{\"color\":\"#2a3f5f\"},\"hovermode\":\"closest\",\"hoverlabel\":{\"align\":\"left\"},\"paper_bgcolor\":\"white\",\"plot_bgcolor\":\"#E5ECF6\",\"polar\":{\"bgcolor\":\"#E5ECF6\",\"angularaxis\":{\"gridcolor\":\"white\",\"linecolor\":\"white\",\"ticks\":\"\"},\"radialaxis\":{\"gridcolor\":\"white\",\"linecolor\":\"white\",\"ticks\":\"\"}},\"ternary\":{\"bgcolor\":\"#E5ECF6\",\"aaxis\":{\"gridcolor\":\"white\",\"linecolor\":\"white\",\"ticks\":\"\"},\"baxis\":{\"gridcolor\":\"white\",\"linecolor\":\"white\",\"ticks\":\"\"},\"caxis\":{\"gridcolor\":\"white\",\"linecolor\":\"white\",\"ticks\":\"\"}},\"coloraxis\":{\"colorbar\":{\"outlinewidth\":0,\"ticks\":\"\"}},\"colorscale\":{\"sequential\":[[0.0,\"#0d0887\"],[0.1111111111111111,\"#46039f\"],[0.2222222222222222,\"#7201a8\"],[0.3333333333333333,\"#9c179e\"],[0.4444444444444444,\"#bd3786\"],[0.5555555555555556,\"#d8576b\"],[0.6666666666666666,\"#ed7953\"],[0.7777777777777778,\"#fb9f3a\"],[0.8888888888888888,\"#fdca26\"],[1.0,\"#f0f921\"]],\"sequentialminus\":[[0.0,\"#0d0887\"],[0.1111111111111111,\"#46039f\"],[0.2222222222222222,\"#7201a8\"],[0.3333333333333333,\"#9c179e\"],[0.4444444444444444,\"#bd3786\"],[0.5555555555555556,\"#d8576b\"],[0.6666666666666666,\"#ed7953\"],[0.7777777777777778,\"#fb9f3a\"],[0.8888888888888888,\"#fdca26\"],[1.0,\"#f0f921\"]],\"diverging\":[[0,\"#8e0152\"],[0.1,\"#c51b7d\"],[0.2,\"#de77ae\"],[0.3,\"#f1b6da\"],[0.4,\"#fde0ef\"],[0.5,\"#f7f7f7\"],[0.6,\"#e6f5d0\"],[0.7,\"#b8e186\"],[0.8,\"#7fbc41\"],[0.9,\"#4d9221\"],[1,\"#276419\"]]},\"xaxis\":{\"gridcolor\":\"white\",\"linecolor\":\"white\",\"ticks\":\"\",\"title\":{\"standoff\":15},\"zerolinecolor\":\"white\",\"automargin\":true,\"zerolinewidth\":2},\"yaxis\":{\"gridcolor\":\"white\",\"linecolor\":\"white\",\"ticks\":\"\",\"title\":{\"standoff\":15},\"zerolinecolor\":\"white\",\"automargin\":true,\"zerolinewidth\":2},\"scene\":{\"xaxis\":{\"backgroundcolor\":\"#E5ECF6\",\"gridcolor\":\"white\",\"linecolor\":\"white\",\"showbackground\":true,\"ticks\":\"\",\"zerolinecolor\":\"white\",\"gridwidth\":2},\"yaxis\":{\"backgroundcolor\":\"#E5ECF6\",\"gridcolor\":\"white\",\"linecolor\":\"white\",\"showbackground\":true,\"ticks\":\"\",\"zerolinecolor\":\"white\",\"gridwidth\":2},\"zaxis\":{\"backgroundcolor\":\"#E5ECF6\",\"gridcolor\":\"white\",\"linecolor\":\"white\",\"showbackground\":true,\"ticks\":\"\",\"zerolinecolor\":\"white\",\"gridwidth\":2}},\"shapedefaults\":{\"line\":{\"color\":\"#2a3f5f\"}},\"annotationdefaults\":{\"arrowcolor\":\"#2a3f5f\",\"arrowhead\":0,\"arrowwidth\":1},\"geo\":{\"bgcolor\":\"white\",\"landcolor\":\"#E5ECF6\",\"subunitcolor\":\"white\",\"showland\":true,\"showlakes\":true,\"lakecolor\":\"white\"},\"title\":{\"x\":0.05},\"mapbox\":{\"style\":\"light\"}}},\"xaxis\":{\"anchor\":\"y\",\"domain\":[0.0,0.45],\"title\":{\"text\":\"Epoch\"}},\"yaxis\":{\"anchor\":\"x\",\"domain\":[0.0,1.0],\"title\":{\"text\":\"Root Mean Squared Error\"},\"range\":[2.782222175598145,10.967185974121094]},\"scene\":{\"domain\":{\"x\":[0.55,1.0],\"y\":[0.0,1.0]},\"xaxis\":{\"title\":{\"text\":\"TRIP_MILES\"}},\"yaxis\":{\"title\":{\"text\":\"TRIP_MINUTES\"}},\"zaxis\":{\"title\":{\"text\":\"FARE\"}}},\"annotations\":[{\"font\":{\"size\":16},\"showarrow\":false,\"text\":\"Loss Curve\",\"x\":0.225,\"xanchor\":\"center\",\"xref\":\"paper\",\"y\":1.0,\"yanchor\":\"bottom\",\"yref\":\"paper\"},{\"font\":{\"size\":16},\"showarrow\":false,\"text\":\"Model Plot\",\"x\":0.775,\"xanchor\":\"center\",\"xref\":\"paper\",\"y\":1.0,\"yanchor\":\"bottom\",\"yref\":\"paper\"}]},                        {\"responsive\": true}                    ).then(function(){\n",
       "                            \n",
       "var gd = document.getElementById('0cd3ddfb-7ecb-4d2c-bb8d-b605b273afca');\n",
       "var x = new MutationObserver(function (mutations, observer) {{\n",
       "        var display = window.getComputedStyle(gd).display;\n",
       "        if (!display || display === 'none') {{\n",
       "            console.log([gd, 'removed!']);\n",
       "            Plotly.purge(gd);\n",
       "            observer.disconnect();\n",
       "        }}\n",
       "}});\n",
       "\n",
       "// Listen for the removal of the full notebook cells\n",
       "var notebookContainer = gd.closest('#notebook-container');\n",
       "if (notebookContainer) {{\n",
       "    x.observe(notebookContainer, {childList: true});\n",
       "}}\n",
       "\n",
       "// Listen for the clearing of the current output cell\n",
       "var outputEl = gd.closest('.output');\n",
       "if (outputEl) {{\n",
       "    x.observe(outputEl, {childList: true});\n",
       "}}\n",
       "\n",
       "                        })                };                });            </script>        </div>"
      ]
     },
     "metadata": {},
     "output_type": "display_data"
    }
   ],
   "source": [
    "#@title Code - Experiment 3\n",
    "\n",
    "# The following variables are the hyperparameters.\n",
    "learning_rate = 0.001\n",
    "epochs = 20\n",
    "batch_size = 50\n",
    "\n",
    "training_df.loc[:, 'TRIP_MINUTES'] = training_df['TRIP_SECONDS']/60\n",
    "\n",
    "features = ['TRIP_MILES', 'TRIP_MINUTES']\n",
    "label = 'FARE'\n",
    "\n",
    "model_2 = run_experiment(training_df, features, label, learning_rate, epochs, batch_size)\n"
   ]
  },
  {
   "cell_type": "code",
   "execution_count": 129,
   "id": "c447bc50-adef-4c1f-b3aa-c0c8b4f3fb9f",
   "metadata": {},
   "outputs": [],
   "source": [
    "#@title Code - Define functions to make predictions\n",
    "def format_currency(x):\n",
    "  return \"${:.2f}\".format(x)\n",
    "\n",
    "def build_batch(df, batch_size):\n",
    "  batch = df.sample(n=batch_size).copy()\n",
    "  batch.set_index(np.arange(batch_size), inplace=True)\n",
    "  return batch\n",
    "\n",
    "def predict_fare(model, df, features, label, batch_size=50):\n",
    "  batch = build_batch(df, batch_size)\n",
    "  predicted_values = model.predict_on_batch(x=batch.loc[:, features].values)\n",
    "\n",
    "  data = {\"PREDICTED_FARE\": [], \"OBSERVED_FARE\": [], \"L1_LOSS\": [],\n",
    "          features[0]: [], features[1]: []}\n",
    "  for i in range(batch_size):\n",
    "    predicted = predicted_values[i][0]\n",
    "    observed = batch.at[i, label]\n",
    "    data[\"PREDICTED_FARE\"].append(format_currency(predicted))\n",
    "    data[\"OBSERVED_FARE\"].append(format_currency(observed))\n",
    "    data[\"L1_LOSS\"].append(format_currency(abs(observed - predicted)))\n",
    "    data[features[0]].append(batch.at[i, features[0]])\n",
    "    data[features[1]].append(\"{:.2f}\".format(batch.at[i, features[1]]))\n",
    "\n",
    "  output_df = pd.DataFrame(data)\n",
    "  return output_df\n",
    "\n",
    "def show_predictions(output):\n",
    "  header = \"-\" * 80\n",
    "  banner = header + \"\\n\" + \"|\" + \"PREDICTIONS\".center(78) + \"|\" + \"\\n\" + header\n",
    "  print(banner)\n",
    "  print(output)\n",
    "  return"
   ]
  },
  {
   "cell_type": "code",
   "execution_count": 133,
   "id": "eba0debd-c186-43db-ab83-caa50a975f70",
   "metadata": {},
   "outputs": [
    {
     "name": "stdout",
     "output_type": "stream",
     "text": [
      "--------------------------------------------------------------------------------\n",
      "|                                 PREDICTIONS                                  |\n",
      "--------------------------------------------------------------------------------\n",
      "   PREDICTED_FARE OBSERVED_FARE L1_LOSS  TRIP_MILES TRIP_MINUTES\n",
      "0          $10.05         $9.75   $0.30        2.30        11.00\n",
      "1           $6.50         $6.25   $0.25        0.90         6.00\n",
      "2          $44.76        $46.25   $1.49       18.30        27.00\n",
      "3          $12.29        $11.75   $0.54        3.48         9.97\n",
      "4          $27.50        $27.25   $0.25       10.70        14.00\n",
      "5          $13.81        $14.00   $0.19        3.80        16.00\n",
      "6          $49.09        $50.75   $1.66       20.30        29.00\n",
      "7          $49.06        $49.75   $0.69       20.62        24.22\n",
      "8          $10.05        $10.00   $0.05        2.28        11.25\n",
      "9           $7.83         $7.25   $0.58        1.34         9.05\n",
      "10         $17.96        $16.73   $1.23        5.40        22.33\n",
      "11         $10.40        $10.25   $0.15        2.65         8.48\n",
      "12          $9.48        $10.90   $1.42        2.16         9.02\n",
      "13          $9.16         $9.75   $0.59        1.52        15.82\n",
      "14          $7.54         $7.50   $0.04        1.20         9.00\n",
      "15         $11.91        $11.68   $0.23        3.01        13.95\n",
      "16          $8.99         $8.25   $0.74        1.87         9.67\n",
      "17         $44.67        $44.50   $0.17       17.93        31.60\n",
      "18         $34.74        $34.50   $0.24       13.83        20.32\n",
      "19         $43.77        $43.50   $0.27       17.42        32.55\n",
      "20          $6.35         $5.75   $0.60        0.97         3.98\n",
      "21         $47.61        $46.25   $1.36       17.24        61.87\n",
      "22         $40.16        $40.25   $0.09       16.30        23.18\n",
      "23          $7.51         $7.25   $0.26        1.10        10.23\n",
      "24         $47.81        $45.75   $2.06       18.06        51.70\n",
      "25         $46.23        $43.00   $3.23       17.10        54.25\n",
      "26         $57.55        $56.75   $0.80       23.07        48.80\n",
      "27          $7.80         $7.25   $0.55        1.40         8.00\n",
      "28          $6.05         $5.50   $0.55        0.76         4.83\n",
      "29         $10.30        $11.25   $0.95        2.00        17.00\n",
      "30         $49.14        $46.50   $2.64       18.27        58.00\n",
      "31          $6.50         $6.25   $0.25        0.90         6.00\n",
      "32         $38.68        $39.00   $0.32       15.40        25.62\n",
      "33         $32.57        $32.75   $0.18       10.93        46.12\n",
      "34          $6.74         $6.25   $0.49        1.01         6.17\n",
      "35         $48.48        $47.00   $1.48       18.24        53.78\n",
      "36         $37.89        $32.48   $5.41       14.50        32.77\n",
      "37         $17.92        $17.75   $0.17        5.95        14.28\n",
      "38         $32.55        $32.00   $0.55       12.56        22.93\n",
      "39         $10.60        $10.50   $0.10        2.46        12.58\n",
      "40         $10.04         $9.75   $0.29        2.51         7.95\n",
      "41          $7.86         $7.50   $0.36        1.37         8.88\n",
      "42         $45.02        $42.75   $2.27       16.80        50.02\n",
      "43         $33.36        $33.50   $0.14       12.64        27.52\n",
      "44          $7.14         $9.00   $1.86        1.18         6.53\n",
      "45          $8.74         $8.25   $0.49        1.75         9.62\n",
      "46          $7.11         $6.25   $0.86        1.20         6.00\n",
      "47          $8.65         $9.00   $0.35        1.58        11.40\n",
      "48         $27.58        $27.00   $0.58       10.18        21.92\n",
      "49          $8.29         $7.75   $0.54        1.50        10.00\n"
     ]
    }
   ],
   "source": [
    "output=predict_fare(model_2,training_df,features,label)\n",
    "show_predictions(output)"
   ]
  },
  {
   "cell_type": "code",
   "execution_count": null,
   "id": "72ef2fe0-b660-4791-ae2c-1fae51ec08f6",
   "metadata": {},
   "outputs": [],
   "source": []
  }
 ],
 "metadata": {
  "kernelspec": {
   "display_name": "Python [conda env:base] *",
   "language": "python",
   "name": "conda-base-py"
  },
  "language_info": {
   "codemirror_mode": {
    "name": "ipython",
    "version": 3
   },
   "file_extension": ".py",
   "mimetype": "text/x-python",
   "name": "python",
   "nbconvert_exporter": "python",
   "pygments_lexer": "ipython3",
   "version": "3.12.7"
  }
 },
 "nbformat": 4,
 "nbformat_minor": 5
}
